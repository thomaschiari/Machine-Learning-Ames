{
  "cells": [
    {
      "cell_type": "code",
      "execution_count": 1,
      "metadata": {
        "id": "thPyoIxIgwex"
      },
      "outputs": [],
      "source": [
        "import pickle\n",
        "import numpy as np\n",
        "import os\n",
        "import pathlib\n",
        "import pandas as pd\n",
        "import multiprocessing\n",
        "import datetime"
      ]
    },
    {
      "cell_type": "code",
      "execution_count": 2,
      "metadata": {
        "colab": {
          "base_uri": "https://localhost:8080/"
        },
        "id": "3YbqTgaohPM5",
        "outputId": "fa102a1d-8663-4016-cf69-3b540018b517"
      },
      "outputs": [
        {
          "name": "stdout",
          "output_type": "stream",
          "text": [
            "Enabling notebook extension jupyter-js-widgets/extension...\n",
            "Paths used for configuration of notebook: \n",
            "    \t/root/.jupyter/nbconfig/notebook.json\n",
            "Paths used for configuration of notebook: \n",
            "    \t\n",
            "      - Validating: \u001b[32mOK\u001b[0m\n",
            "Paths used for configuration of notebook: \n",
            "    \t/root/.jupyter/nbconfig/notebook.json\n"
          ]
        }
      ],
      "source": [
        "!pip install catboost --quiet\n",
        "!pip install plotly --quiet\n",
        "!pip install ipywidgets --quiet\n",
        "!jupyter nbextension enable --py widgetsnbextension"
      ]
    },
    {
      "cell_type": "code",
      "execution_count": 3,
      "metadata": {
        "id": "6AxxeTZfgwe0"
      },
      "outputs": [],
      "source": [
        "DATA_PATH = os.path.join(pathlib.Path.cwd(), 'fetch_data', 'data_final.parquet')\n",
        "\n",
        "data = pd.read_parquet(DATA_PATH)"
      ]
    },
    {
      "cell_type": "code",
      "execution_count": 4,
      "metadata": {
        "id": "J4SVu3_agwe1"
      },
      "outputs": [],
      "source": [
        "from sklearn.model_selection import train_test_split\n",
        "from sklearn.ensemble import RandomForestRegressor\n",
        "from sklearn.metrics import mean_squared_error\n",
        "import xgboost as xgb\n",
        "from sklearn.svm import LinearSVR\n",
        "from catboost import CatBoostRegressor, Pool, cv\n",
        "from sklearn.model_selection import GridSearchCV\n",
        "from sklearn.linear_model import LinearRegression\n",
        "from sklearn.linear_model import Ridge, Lasso, ElasticNet, BayesianRidge\n",
        "from catboost import CatBoostRegressor"
      ]
    },
    {
      "cell_type": "code",
      "execution_count": 5,
      "metadata": {
        "colab": {
          "base_uri": "https://localhost:8080/"
        },
        "id": "m6r2Tik_gwe1",
        "outputId": "64b42f2b-40f7-4a9e-f251-64f03bb090b8"
      },
      "outputs": [
        {
          "name": "stdout",
          "output_type": "stream",
          "text": [
            "index\n",
            "0       5.332438\n",
            "1       5.021189\n",
            "2       5.235528\n",
            "3       5.387390\n",
            "4       5.278525\n",
            "          ...   \n",
            "2925    5.153815\n",
            "2926    5.117271\n",
            "2927    5.120574\n",
            "2928    5.230449\n",
            "2929    5.274158\n",
            "Name: SalePrice, Length: 2901, dtype: float64\n"
          ]
        }
      ],
      "source": [
        "# Separação Treinamento - Teste\n",
        "\n",
        "X = data.drop(['SalePrice'], axis=1)\n",
        "y = data['SalePrice']\n",
        "\n",
        "print(y)\n",
        "\n",
        "X_train, X_test, y_train, y_test = train_test_split(X, y, test_size=0.2, random_state=42)"
      ]
    },
    {
      "cell_type": "code",
      "execution_count": 6,
      "metadata": {
        "id": "hECYhv2ogwe3"
      },
      "outputs": [],
      "source": [
        "# Modelo de Random Forest\n",
        "\n",
        "rf = RandomForestRegressor(n_estimators=5000, random_state=42)\n",
        "rf.fit(X_train, y_train)\n",
        "ypred = rf.predict(X_test)\n",
        "RMSE_RF = np.sqrt(mean_squared_error(y_test, ypred))\n",
        "error_percent_rf = 100 * (10**RMSE_RF - 1)"
      ]
    },
    {
      "cell_type": "code",
      "execution_count": 7,
      "metadata": {
        "colab": {
          "base_uri": "https://localhost:8080/"
        },
        "id": "U3lbIlxzGHN6",
        "outputId": "9d31a570-ef4b-41be-d8c3-d628703a4aea"
      },
      "outputs": [
        {
          "data": {
            "text/plain": [
              "13.59259849281369"
            ]
          },
          "execution_count": 7,
          "metadata": {},
          "output_type": "execute_result"
        }
      ],
      "source": [
        "error_percent_rf"
      ]
    },
    {
      "cell_type": "code",
      "execution_count": 8,
      "metadata": {
        "id": "3ol4PYvlgwe4"
      },
      "outputs": [],
      "source": [
        "# Modelo de Extreme Gradient Boosting\n",
        "\n",
        "xgb_model = xgb.XGBRegressor(objective=\"reg:squarederror\", random_state=42)\n",
        "xgb_model.fit(X_train, y_train)\n",
        "ypred = xgb_model.predict(X_test)\n",
        "RMSE_XGB = np.sqrt(mean_squared_error(y_test, ypred))\n",
        "error_percent_xgb = 100 * (10**RMSE_XGB - 1)"
      ]
    },
    {
      "cell_type": "code",
      "execution_count": 9,
      "metadata": {
        "colab": {
          "base_uri": "https://localhost:8080/"
        },
        "id": "pb_M84sXGI_7",
        "outputId": "c8ae41b1-0ca1-496c-a1a3-c18b086630c7"
      },
      "outputs": [
        {
          "data": {
            "text/plain": [
              "14.232087713608621"
            ]
          },
          "execution_count": 9,
          "metadata": {},
          "output_type": "execute_result"
        }
      ],
      "source": [
        "error_percent_xgb"
      ]
    },
    {
      "cell_type": "code",
      "execution_count": 10,
      "metadata": {
        "colab": {
          "base_uri": "https://localhost:8080/"
        },
        "id": "BFWQnwQFgwe4",
        "outputId": "c2cb4427-45fd-47a3-e4dc-1e2fe24c4054"
      },
      "outputs": [
        {
          "name": "stderr",
          "output_type": "stream",
          "text": [
            "/usr/local/lib/python3.10/dist-packages/sklearn/svm/_base.py:1244: ConvergenceWarning: Liblinear failed to converge, increase the number of iterations.\n",
            "  warnings.warn(\n"
          ]
        }
      ],
      "source": [
        "# Support Vector Regressor Linear\n",
        "\n",
        "svr = LinearSVR(random_state=42, max_iter=10000)\n",
        "svr.fit(X_train, y_train)\n",
        "ypred = svr.predict(X_test)\n",
        "RMSE_SVR = np.sqrt(mean_squared_error(y_test, ypred))\n",
        "error_percent_svr = 100 * (10**RMSE_SVR - 1)"
      ]
    },
    {
      "cell_type": "code",
      "execution_count": 11,
      "metadata": {
        "colab": {
          "base_uri": "https://localhost:8080/"
        },
        "id": "uadRgEixGKp_",
        "outputId": "2432b7a9-1145-42e2-929b-e08d6ad185f1"
      },
      "outputs": [
        {
          "data": {
            "text/plain": [
              "14.690271180184755"
            ]
          },
          "execution_count": 11,
          "metadata": {},
          "output_type": "execute_result"
        }
      ],
      "source": [
        "error_percent_svr"
      ]
    },
    {
      "cell_type": "code",
      "execution_count": 12,
      "metadata": {
        "id": "CuLpP8ZCgwe5"
      },
      "outputs": [],
      "source": [
        "# Linear Regression\n",
        "\n",
        "lr = LinearRegression()\n",
        "lr.fit(X_train, y_train)\n",
        "ypred = lr.predict(X_test)\n",
        "RMSE_LR = np.sqrt(mean_squared_error(y_test, ypred))\n",
        "error_percent_lr = 100 * (10**RMSE_LR - 1)"
      ]
    },
    {
      "cell_type": "code",
      "execution_count": 13,
      "metadata": {
        "colab": {
          "base_uri": "https://localhost:8080/"
        },
        "id": "t52iSBldGMkM",
        "outputId": "4c5ef99d-db6b-4ba1-d3b5-cbf205a62836"
      },
      "outputs": [
        {
          "data": {
            "text/plain": [
              "14.381012071576006"
            ]
          },
          "execution_count": 13,
          "metadata": {},
          "output_type": "execute_result"
        }
      ],
      "source": [
        "error_percent_lr"
      ]
    },
    {
      "cell_type": "code",
      "execution_count": 14,
      "metadata": {
        "id": "UidFD8kcgwe5"
      },
      "outputs": [],
      "source": [
        "# Ridge, Lasso, Elastic Net e Bayesian Ridge\n",
        "\n",
        "ridge = Ridge()\n",
        "ridge.fit(X_train, y_train)\n",
        "ypred = ridge.predict(X_test)\n",
        "RMSE_RIDGE = np.sqrt(mean_squared_error(y_test, ypred))\n",
        "error_percent_ridge = 100 * (10**RMSE_RIDGE - 1)\n",
        "\n",
        "lasso = Lasso()\n",
        "lasso.fit(X_train, y_train)\n",
        "ypred = lasso.predict(X_test)\n",
        "RMSE_LASSO = np.sqrt(mean_squared_error(y_test, ypred))\n",
        "error_percent_lasso = 100 * (10**RMSE_LASSO - 1)\n",
        "\n",
        "elastic = ElasticNet()\n",
        "elastic.fit(X_train, y_train)\n",
        "ypred = elastic.predict(X_test)\n",
        "RMSE_ELASTIC = np.sqrt(mean_squared_error(y_test, ypred))\n",
        "error_percent_elastic = 100 * (10**RMSE_ELASTIC - 1)\n",
        "\n",
        "bayesian = BayesianRidge()\n",
        "bayesian.fit(X_train, y_train)\n",
        "ypred = bayesian.predict(X_test)\n",
        "RMSE_BAYESIAN = np.sqrt(mean_squared_error(y_test, ypred))\n",
        "error_percent_bayesian = 100 * (10**RMSE_BAYESIAN - 1)"
      ]
    },
    {
      "cell_type": "code",
      "execution_count": 15,
      "metadata": {
        "colab": {
          "base_uri": "https://localhost:8080/"
        },
        "id": "wIZuQQgHGOec",
        "outputId": "56176c6a-238a-41a6-fb69-d8a301cec72c"
      },
      "outputs": [
        {
          "name": "stdout",
          "output_type": "stream",
          "text": [
            "14.381242114704174\n",
            "46.74117821569086\n",
            "46.74117821569086\n",
            "14.394598072769348\n"
          ]
        }
      ],
      "source": [
        "print(error_percent_ridge)\n",
        "print(error_percent_lasso)\n",
        "print(error_percent_elastic)\n",
        "print(error_percent_bayesian)"
      ]
    },
    {
      "cell_type": "code",
      "execution_count": 16,
      "metadata": {
        "colab": {
          "base_uri": "https://localhost:8080/"
        },
        "id": "CwsbNoFbzK26",
        "outputId": "e8a35d0f-8e51-4aff-aa16-38b10c6e8c83"
      },
      "outputs": [
        {
          "name": "stdout",
          "output_type": "stream",
          "text": [
            "0:\tlearn: 0.1683998\ttotal: 7.79ms\tremaining: 25m 57s\n",
            "1000:\tlearn: 0.0434531\ttotal: 10.9s\tremaining: 36m 14s\n",
            "2000:\tlearn: 0.0397891\ttotal: 30s\tremaining: 49m 24s\n",
            "3000:\tlearn: 0.0378808\ttotal: 36.6s\tremaining: 40m\n",
            "4000:\tlearn: 0.0371654\ttotal: 43.8s\tremaining: 35m 44s\n",
            "5000:\tlearn: 0.0361241\ttotal: 56.2s\tremaining: 36m 29s\n",
            "6000:\tlearn: 0.0353293\ttotal: 1m 1s\tremaining: 33m\n",
            "7000:\tlearn: 0.0345399\ttotal: 1m 8s\tremaining: 31m 30s\n",
            "8000:\tlearn: 0.0337997\ttotal: 1m 16s\tremaining: 30m 34s\n",
            "9000:\tlearn: 0.0331752\ttotal: 1m 23s\tremaining: 29m 39s\n",
            "10000:\tlearn: 0.0325696\ttotal: 1m 35s\tremaining: 30m 8s\n",
            "11000:\tlearn: 0.0320626\ttotal: 1m 41s\tremaining: 28m 56s\n",
            "12000:\tlearn: 0.0315907\ttotal: 1m 48s\tremaining: 28m 17s\n",
            "13000:\tlearn: 0.0311604\ttotal: 1m 54s\tremaining: 27m 23s\n",
            "14000:\tlearn: 0.0307411\ttotal: 2m 1s\tremaining: 26m 54s\n",
            "15000:\tlearn: 0.0303116\ttotal: 2m 6s\tremaining: 26m 5s\n",
            "16000:\tlearn: 0.0300041\ttotal: 2m 12s\tremaining: 25m 27s\n",
            "17000:\tlearn: 0.0297119\ttotal: 2m 17s\tremaining: 24m 37s\n",
            "18000:\tlearn: 0.0294083\ttotal: 2m 23s\tremaining: 24m 9s\n",
            "19000:\tlearn: 0.0290425\ttotal: 2m 28s\tremaining: 23m 31s\n",
            "20000:\tlearn: 0.0286954\ttotal: 2m 37s\tremaining: 23m 34s\n",
            "21000:\tlearn: 0.0284332\ttotal: 2m 46s\tremaining: 23m 42s\n",
            "22000:\tlearn: 0.0282472\ttotal: 2m 58s\tremaining: 24m 3s\n",
            "23000:\tlearn: 0.0279468\ttotal: 3m 5s\tremaining: 23m 48s\n",
            "24000:\tlearn: 0.0277349\ttotal: 3m 9s\tremaining: 23m 12s\n",
            "25000:\tlearn: 0.0274874\ttotal: 3m 16s\tremaining: 22m 52s\n",
            "26000:\tlearn: 0.0272232\ttotal: 3m 20s\tremaining: 22m 22s\n",
            "27000:\tlearn: 0.0270314\ttotal: 3m 26s\tremaining: 22m 6s\n",
            "28000:\tlearn: 0.0268858\ttotal: 3m 31s\tremaining: 21m 38s\n",
            "29000:\tlearn: 0.0267038\ttotal: 3m 35s\tremaining: 21m 12s\n",
            "30000:\tlearn: 0.0265258\ttotal: 3m 42s\tremaining: 20m 58s\n",
            "31000:\tlearn: 0.0263718\ttotal: 3m 46s\tremaining: 20m 35s\n",
            "32000:\tlearn: 0.0262104\ttotal: 3m 53s\tremaining: 20m 23s\n",
            "33000:\tlearn: 0.0260492\ttotal: 3m 57s\tremaining: 20m 2s\n",
            "34000:\tlearn: 0.0259084\ttotal: 4m 3s\tremaining: 19m 49s\n",
            "35000:\tlearn: 0.0257455\ttotal: 4m 8s\tremaining: 19m 30s\n",
            "36000:\tlearn: 0.0256079\ttotal: 4m 12s\tremaining: 19m 11s\n",
            "37000:\tlearn: 0.0254886\ttotal: 4m 19s\tremaining: 19m 2s\n",
            "38000:\tlearn: 0.0253647\ttotal: 4m 24s\tremaining: 18m 46s\n",
            "39000:\tlearn: 0.0252294\ttotal: 4m 35s\tremaining: 18m 55s\n",
            "40000:\tlearn: 0.0250815\ttotal: 4m 43s\tremaining: 18m 53s\n",
            "41000:\tlearn: 0.0249482\ttotal: 4m 47s\tremaining: 18m 36s\n",
            "42000:\tlearn: 0.0248080\ttotal: 4m 54s\tremaining: 18m 27s\n",
            "43000:\tlearn: 0.0246770\ttotal: 4m 58s\tremaining: 18m 10s\n",
            "44000:\tlearn: 0.0245736\ttotal: 5m 3s\tremaining: 17m 55s\n",
            "45000:\tlearn: 0.0244709\ttotal: 5m 9s\tremaining: 17m 44s\n",
            "46000:\tlearn: 0.0243886\ttotal: 5m 13s\tremaining: 17m 29s\n",
            "47000:\tlearn: 0.0242572\ttotal: 5m 19s\tremaining: 17m 21s\n",
            "48000:\tlearn: 0.0241341\ttotal: 5m 24s\tremaining: 17m 6s\n",
            "49000:\tlearn: 0.0240625\ttotal: 5m 28s\tremaining: 16m 52s\n",
            "50000:\tlearn: 0.0239320\ttotal: 5m 33s\tremaining: 16m 41s\n",
            "51000:\tlearn: 0.0238471\ttotal: 5m 38s\tremaining: 16m 28s\n",
            "52000:\tlearn: 0.0237710\ttotal: 5m 43s\tremaining: 16m 16s\n",
            "53000:\tlearn: 0.0236779\ttotal: 5m 48s\tremaining: 16m 6s\n",
            "54000:\tlearn: 0.0235597\ttotal: 5m 52s\tremaining: 15m 53s\n",
            "55000:\tlearn: 0.0234406\ttotal: 5m 58s\tremaining: 15m 45s\n",
            "56000:\tlearn: 0.0233828\ttotal: 6m 3s\tremaining: 15m 34s\n",
            "57000:\tlearn: 0.0233092\ttotal: 6m 9s\tremaining: 15m 25s\n",
            "58000:\tlearn: 0.0232159\ttotal: 6m 13s\tremaining: 15m 14s\n",
            "59000:\tlearn: 0.0231425\ttotal: 6m 17s\tremaining: 15m 3s\n",
            "60000:\tlearn: 0.0230485\ttotal: 6m 23s\tremaining: 14m 54s\n",
            "61000:\tlearn: 0.0229714\ttotal: 6m 28s\tremaining: 14m 44s\n",
            "62000:\tlearn: 0.0228971\ttotal: 6m 33s\tremaining: 14m 36s\n",
            "63000:\tlearn: 0.0228086\ttotal: 6m 38s\tremaining: 14m 25s\n",
            "64000:\tlearn: 0.0226945\ttotal: 6m 42s\tremaining: 14m 15s\n",
            "65000:\tlearn: 0.0226073\ttotal: 6m 47s\tremaining: 14m 6s\n",
            "66000:\tlearn: 0.0225009\ttotal: 6m 52s\tremaining: 13m 56s\n",
            "67000:\tlearn: 0.0224076\ttotal: 6m 57s\tremaining: 13m 49s\n",
            "68000:\tlearn: 0.0222947\ttotal: 7m 2s\tremaining: 13m 39s\n",
            "69000:\tlearn: 0.0221983\ttotal: 7m 7s\tremaining: 13m 32s\n",
            "70000:\tlearn: 0.0221126\ttotal: 7m 12s\tremaining: 13m 22s\n",
            "71000:\tlearn: 0.0220150\ttotal: 7m 16s\tremaining: 13m 13s\n",
            "72000:\tlearn: 0.0219500\ttotal: 7m 21s\tremaining: 13m 4s\n",
            "73000:\tlearn: 0.0218605\ttotal: 7m 25s\tremaining: 12m 55s\n",
            "74000:\tlearn: 0.0217809\ttotal: 7m 30s\tremaining: 12m 47s\n",
            "75000:\tlearn: 0.0216765\ttotal: 7m 35s\tremaining: 12m 38s\n",
            "76000:\tlearn: 0.0215624\ttotal: 7m 39s\tremaining: 12m 30s\n",
            "77000:\tlearn: 0.0214999\ttotal: 7m 45s\tremaining: 12m 23s\n",
            "78000:\tlearn: 0.0214006\ttotal: 7m 49s\tremaining: 12m 14s\n",
            "79000:\tlearn: 0.0213288\ttotal: 7m 55s\tremaining: 12m 8s\n",
            "80000:\tlearn: 0.0212587\ttotal: 7m 59s\tremaining: 11m 59s\n",
            "81000:\tlearn: 0.0211695\ttotal: 8m 4s\tremaining: 11m 51s\n",
            "82000:\tlearn: 0.0210986\ttotal: 8m 9s\tremaining: 11m 44s\n",
            "83000:\tlearn: 0.0210188\ttotal: 8m 13s\tremaining: 11m 36s\n",
            "84000:\tlearn: 0.0209340\ttotal: 8m 18s\tremaining: 11m 28s\n",
            "85000:\tlearn: 0.0208362\ttotal: 8m 23s\tremaining: 11m 20s\n",
            "86000:\tlearn: 0.0207570\ttotal: 8m 27s\tremaining: 11m 12s\n",
            "87000:\tlearn: 0.0206963\ttotal: 8m 32s\tremaining: 11m 6s\n",
            "88000:\tlearn: 0.0206167\ttotal: 8m 37s\tremaining: 10m 58s\n",
            "89000:\tlearn: 0.0205271\ttotal: 8m 43s\tremaining: 10m 52s\n",
            "90000:\tlearn: 0.0204777\ttotal: 8m 47s\tremaining: 10m 44s\n",
            "91000:\tlearn: 0.0204049\ttotal: 8m 53s\tremaining: 10m 38s\n",
            "92000:\tlearn: 0.0203419\ttotal: 8m 57s\tremaining: 10m 31s\n",
            "93000:\tlearn: 0.0202618\ttotal: 9m 2s\tremaining: 10m 23s\n",
            "94000:\tlearn: 0.0201823\ttotal: 9m 7s\tremaining: 10m 17s\n",
            "95000:\tlearn: 0.0201076\ttotal: 9m 12s\tremaining: 10m 10s\n",
            "96000:\tlearn: 0.0200618\ttotal: 9m 17s\tremaining: 10m 4s\n",
            "97000:\tlearn: 0.0199996\ttotal: 9m 22s\tremaining: 9m 56s\n",
            "98000:\tlearn: 0.0199209\ttotal: 9m 27s\tremaining: 9m 50s\n",
            "99000:\tlearn: 0.0198410\ttotal: 9m 31s\tremaining: 9m 43s\n",
            "100000:\tlearn: 0.0197725\ttotal: 9m 35s\tremaining: 9m 35s\n",
            "101000:\tlearn: 0.0197130\ttotal: 9m 41s\tremaining: 9m 29s\n",
            "102000:\tlearn: 0.0196325\ttotal: 9m 45s\tremaining: 9m 22s\n",
            "103000:\tlearn: 0.0195655\ttotal: 9m 51s\tremaining: 9m 16s\n",
            "104000:\tlearn: 0.0195081\ttotal: 9m 55s\tremaining: 9m 9s\n",
            "105000:\tlearn: 0.0194175\ttotal: 9m 59s\tremaining: 9m 2s\n",
            "106000:\tlearn: 0.0193468\ttotal: 10m 5s\tremaining: 8m 56s\n",
            "107000:\tlearn: 0.0192759\ttotal: 10m 9s\tremaining: 8m 50s\n",
            "108000:\tlearn: 0.0192099\ttotal: 10m 15s\tremaining: 8m 44s\n",
            "109000:\tlearn: 0.0191552\ttotal: 10m 19s\tremaining: 8m 37s\n",
            "110000:\tlearn: 0.0190789\ttotal: 10m 25s\tremaining: 8m 31s\n",
            "111000:\tlearn: 0.0190057\ttotal: 10m 29s\tremaining: 8m 24s\n",
            "112000:\tlearn: 0.0189454\ttotal: 10m 34s\tremaining: 8m 18s\n",
            "113000:\tlearn: 0.0188837\ttotal: 10m 39s\tremaining: 8m 12s\n",
            "114000:\tlearn: 0.0188202\ttotal: 10m 44s\tremaining: 8m 5s\n",
            "115000:\tlearn: 0.0187569\ttotal: 10m 49s\tremaining: 8m\n",
            "116000:\tlearn: 0.0186859\ttotal: 10m 54s\tremaining: 7m 53s\n",
            "117000:\tlearn: 0.0186309\ttotal: 10m 59s\tremaining: 7m 47s\n",
            "118000:\tlearn: 0.0185643\ttotal: 11m 4s\tremaining: 7m 41s\n",
            "119000:\tlearn: 0.0185140\ttotal: 11m 8s\tremaining: 7m 34s\n",
            "120000:\tlearn: 0.0184420\ttotal: 11m 13s\tremaining: 7m 28s\n",
            "121000:\tlearn: 0.0183873\ttotal: 11m 17s\tremaining: 7m 22s\n",
            "122000:\tlearn: 0.0183238\ttotal: 11m 23s\tremaining: 7m 16s\n",
            "123000:\tlearn: 0.0182550\ttotal: 11m 27s\tremaining: 7m 10s\n",
            "124000:\tlearn: 0.0181960\ttotal: 11m 32s\tremaining: 7m 4s\n",
            "125000:\tlearn: 0.0181468\ttotal: 11m 37s\tremaining: 6m 58s\n",
            "126000:\tlearn: 0.0180943\ttotal: 11m 41s\tremaining: 6m 52s\n",
            "127000:\tlearn: 0.0180393\ttotal: 11m 46s\tremaining: 6m 46s\n",
            "128000:\tlearn: 0.0179808\ttotal: 11m 51s\tremaining: 6m 40s\n",
            "129000:\tlearn: 0.0179312\ttotal: 11m 55s\tremaining: 6m 34s\n",
            "130000:\tlearn: 0.0178902\ttotal: 12m 1s\tremaining: 6m 28s\n",
            "131000:\tlearn: 0.0178431\ttotal: 12m 5s\tremaining: 6m 22s\n",
            "132000:\tlearn: 0.0177910\ttotal: 12m 11s\tremaining: 6m 16s\n",
            "133000:\tlearn: 0.0177370\ttotal: 12m 15s\tremaining: 6m 10s\n",
            "134000:\tlearn: 0.0176857\ttotal: 12m 21s\tremaining: 6m 5s\n",
            "135000:\tlearn: 0.0176314\ttotal: 12m 25s\tremaining: 5m 59s\n",
            "136000:\tlearn: 0.0175752\ttotal: 12m 30s\tremaining: 5m 53s\n",
            "137000:\tlearn: 0.0175341\ttotal: 12m 35s\tremaining: 5m 47s\n",
            "138000:\tlearn: 0.0174812\ttotal: 12m 40s\tremaining: 5m 41s\n",
            "139000:\tlearn: 0.0174291\ttotal: 12m 46s\tremaining: 5m 36s\n",
            "140000:\tlearn: 0.0173864\ttotal: 12m 51s\tremaining: 5m 30s\n",
            "141000:\tlearn: 0.0173460\ttotal: 12m 56s\tremaining: 5m 25s\n",
            "142000:\tlearn: 0.0172896\ttotal: 13m 1s\tremaining: 5m 19s\n",
            "143000:\tlearn: 0.0172366\ttotal: 13m 5s\tremaining: 5m 13s\n",
            "144000:\tlearn: 0.0171958\ttotal: 13m 11s\tremaining: 5m 7s\n",
            "145000:\tlearn: 0.0171480\ttotal: 13m 16s\tremaining: 5m 1s\n",
            "146000:\tlearn: 0.0171075\ttotal: 13m 21s\tremaining: 4m 56s\n",
            "147000:\tlearn: 0.0170608\ttotal: 13m 25s\tremaining: 4m 50s\n",
            "148000:\tlearn: 0.0169980\ttotal: 13m 31s\tremaining: 4m 45s\n",
            "149000:\tlearn: 0.0169583\ttotal: 13m 35s\tremaining: 4m 39s\n",
            "150000:\tlearn: 0.0169231\ttotal: 13m 40s\tremaining: 4m 33s\n",
            "151000:\tlearn: 0.0168750\ttotal: 13m 45s\tremaining: 4m 28s\n",
            "152000:\tlearn: 0.0168329\ttotal: 13m 50s\tremaining: 4m 22s\n",
            "153000:\tlearn: 0.0167980\ttotal: 13m 55s\tremaining: 4m 16s\n",
            "154000:\tlearn: 0.0167371\ttotal: 14m\tremaining: 4m 11s\n",
            "155000:\tlearn: 0.0166870\ttotal: 14m 6s\tremaining: 4m 5s\n",
            "156000:\tlearn: 0.0166460\ttotal: 14m 10s\tremaining: 3m 59s\n",
            "157000:\tlearn: 0.0166024\ttotal: 14m 15s\tremaining: 3m 54s\n",
            "158000:\tlearn: 0.0165605\ttotal: 14m 20s\tremaining: 3m 48s\n",
            "159000:\tlearn: 0.0165185\ttotal: 14m 25s\tremaining: 3m 43s\n",
            "160000:\tlearn: 0.0164830\ttotal: 14m 30s\tremaining: 3m 37s\n",
            "161000:\tlearn: 0.0164342\ttotal: 14m 35s\tremaining: 3m 31s\n",
            "162000:\tlearn: 0.0163951\ttotal: 14m 39s\tremaining: 3m 26s\n",
            "163000:\tlearn: 0.0163464\ttotal: 14m 44s\tremaining: 3m 20s\n",
            "164000:\tlearn: 0.0162993\ttotal: 14m 49s\tremaining: 3m 15s\n",
            "165000:\tlearn: 0.0162639\ttotal: 14m 54s\tremaining: 3m 9s\n",
            "166000:\tlearn: 0.0162275\ttotal: 14m 59s\tremaining: 3m 4s\n",
            "167000:\tlearn: 0.0161867\ttotal: 15m 4s\tremaining: 2m 58s\n",
            "168000:\tlearn: 0.0161529\ttotal: 15m 9s\tremaining: 2m 53s\n",
            "169000:\tlearn: 0.0161014\ttotal: 15m 13s\tremaining: 2m 47s\n",
            "170000:\tlearn: 0.0160628\ttotal: 15m 19s\tremaining: 2m 42s\n",
            "171000:\tlearn: 0.0160176\ttotal: 15m 23s\tremaining: 2m 36s\n",
            "172000:\tlearn: 0.0159758\ttotal: 15m 29s\tremaining: 2m 31s\n",
            "173000:\tlearn: 0.0159453\ttotal: 15m 33s\tremaining: 2m 25s\n",
            "174000:\tlearn: 0.0159064\ttotal: 15m 39s\tremaining: 2m 20s\n",
            "175000:\tlearn: 0.0158636\ttotal: 15m 44s\tremaining: 2m 14s\n",
            "176000:\tlearn: 0.0158167\ttotal: 15m 48s\tremaining: 2m 9s\n",
            "177000:\tlearn: 0.0157834\ttotal: 15m 54s\tremaining: 2m 3s\n",
            "178000:\tlearn: 0.0157336\ttotal: 15m 58s\tremaining: 1m 58s\n",
            "179000:\tlearn: 0.0156957\ttotal: 16m 4s\tremaining: 1m 53s\n",
            "180000:\tlearn: 0.0156458\ttotal: 16m 9s\tremaining: 1m 47s\n",
            "181000:\tlearn: 0.0156057\ttotal: 16m 14s\tremaining: 1m 42s\n",
            "182000:\tlearn: 0.0155637\ttotal: 16m 18s\tremaining: 1m 36s\n",
            "183000:\tlearn: 0.0155147\ttotal: 16m 23s\tremaining: 1m 31s\n",
            "184000:\tlearn: 0.0154729\ttotal: 16m 28s\tremaining: 1m 25s\n",
            "185000:\tlearn: 0.0154309\ttotal: 16m 33s\tremaining: 1m 20s\n",
            "186000:\tlearn: 0.0153878\ttotal: 16m 38s\tremaining: 1m 15s\n",
            "187000:\tlearn: 0.0153475\ttotal: 16m 43s\tremaining: 1m 9s\n",
            "188000:\tlearn: 0.0153017\ttotal: 16m 49s\tremaining: 1m 4s\n",
            "189000:\tlearn: 0.0152608\ttotal: 16m 53s\tremaining: 59s\n",
            "190000:\tlearn: 0.0152134\ttotal: 16m 58s\tremaining: 53.6s\n",
            "191000:\tlearn: 0.0151483\ttotal: 17m 3s\tremaining: 48.2s\n",
            "192000:\tlearn: 0.0150836\ttotal: 17m 8s\tremaining: 42.8s\n",
            "193000:\tlearn: 0.0150394\ttotal: 17m 13s\tremaining: 37.5s\n",
            "194000:\tlearn: 0.0149955\ttotal: 17m 18s\tremaining: 32.1s\n",
            "195000:\tlearn: 0.0149436\ttotal: 17m 24s\tremaining: 26.8s\n",
            "196000:\tlearn: 0.0149071\ttotal: 17m 28s\tremaining: 21.4s\n",
            "197000:\tlearn: 0.0148707\ttotal: 17m 33s\tremaining: 16s\n",
            "198000:\tlearn: 0.0148246\ttotal: 17m 38s\tremaining: 10.7s\n",
            "199000:\tlearn: 0.0147844\ttotal: 17m 43s\tremaining: 5.34s\n",
            "199999:\tlearn: 0.0147434\ttotal: 17m 48s\tremaining: 0us\n",
            "0:17:59.493065\n"
          ]
        }
      ],
      "source": [
        "best_params = {\n",
        "    'iterations': 200000,\n",
        "}\n",
        "\n",
        "    #'max_leaves': 8,\n",
        "    #'depth': 3,\n",
        "    #'od_wait': 200,\n",
        "    #'l2_leaf_reg': 3,\n",
        "    #'model_size_reg': 0.7,\n",
        "    #'learning_rate': 0.05,\n",
        "    #'random_seed': 42\n",
        "\n",
        "\n",
        "time_zero = datetime.datetime.now()\n",
        "\n",
        "model = CatBoostRegressor(**best_params, verbose=1000, task_type='GPU')\n",
        "model.fit(X_train, y_train)\n",
        "\n",
        "time_end = datetime.datetime.now()\n",
        "\n",
        "total_time = time_end - time_zero\n",
        "\n",
        "print(total_time)\n",
        "\n",
        "ypred = model.predict(X_test)\n",
        "RMSE_CAT = np.sqrt(mean_squared_error(y_test, ypred))\n",
        "error_percent_cat = 100 * (10**RMSE_CAT - 1)"
      ]
    },
    {
      "cell_type": "code",
      "execution_count": 17,
      "metadata": {
        "colab": {
          "base_uri": "https://localhost:8080/"
        },
        "id": "xAX65oKtgwe6",
        "outputId": "69c10c86-03d0-4a99-b2a5-3b38e6337e72"
      },
      "outputs": [
        {
          "name": "stdout",
          "output_type": "stream",
          "text": [
            "Learning rate set to 0.004094\n",
            "0:\tlearn: 0.1734479\ttotal: 12.7ms\tremaining: 4m 14s\n",
            "1000:\tlearn: 0.0523616\ttotal: 5.03s\tremaining: 1m 35s\n",
            "2000:\tlearn: 0.0446934\ttotal: 10.6s\tremaining: 1m 35s\n",
            "3000:\tlearn: 0.0398730\ttotal: 15.4s\tremaining: 1m 27s\n",
            "4000:\tlearn: 0.0359755\ttotal: 20.9s\tremaining: 1m 23s\n",
            "5000:\tlearn: 0.0331252\ttotal: 25.7s\tremaining: 1m 17s\n",
            "6000:\tlearn: 0.0306030\ttotal: 30.6s\tremaining: 1m 11s\n",
            "7000:\tlearn: 0.0283062\ttotal: 36.2s\tremaining: 1m 7s\n",
            "8000:\tlearn: 0.0262937\ttotal: 40.9s\tremaining: 1m 1s\n",
            "9000:\tlearn: 0.0246047\ttotal: 46.5s\tremaining: 56.9s\n",
            "10000:\tlearn: 0.0231265\ttotal: 51.3s\tremaining: 51.3s\n",
            "11000:\tlearn: 0.0217722\ttotal: 57s\tremaining: 46.7s\n",
            "12000:\tlearn: 0.0205492\ttotal: 1m 1s\tremaining: 41.2s\n",
            "13000:\tlearn: 0.0194221\ttotal: 1m 7s\tremaining: 36.3s\n",
            "14000:\tlearn: 0.0183998\ttotal: 1m 12s\tremaining: 31s\n",
            "15000:\tlearn: 0.0175228\ttotal: 1m 17s\tremaining: 26s\n",
            "16000:\tlearn: 0.0167110\ttotal: 1m 22s\tremaining: 20.7s\n",
            "17000:\tlearn: 0.0159634\ttotal: 1m 27s\tremaining: 15.5s\n",
            "18000:\tlearn: 0.0152281\ttotal: 1m 33s\tremaining: 10.3s\n",
            "19000:\tlearn: 0.0145737\ttotal: 1m 37s\tremaining: 5.15s\n",
            "19999:\tlearn: 0.0139300\ttotal: 1m 43s\tremaining: 0us\n",
            "0:01:45.055499\n"
          ]
        }
      ],
      "source": [
        "# Category Boosting Regressor\n",
        "\n",
        "time_zero = datetime.datetime.now()\n",
        "\n",
        "cat = CatBoostRegressor(random_state=42, verbose=1000, iterations=20000)\n",
        "cat.fit(X_train, y_train)\n",
        "\n",
        "time_end = datetime.datetime.now()\n",
        "\n",
        "total_time = time_end - time_zero\n",
        "\n",
        "print(total_time)\n",
        "\n",
        "ypred = cat.predict(X_test)\n",
        "RMSE_CAT_2 = np.sqrt(mean_squared_error(y_test, ypred))\n",
        "error_percent_cat2 = 100 * (10**RMSE_CAT_2 - 1)"
      ]
    },
    {
      "cell_type": "code",
      "execution_count": 18,
      "metadata": {
        "colab": {
          "base_uri": "https://localhost:8080/"
        },
        "id": "mZyFEAn6-aMK",
        "outputId": "807feddb-6d14-4003-fc26-659fb14ba21e"
      },
      "outputs": [
        {
          "name": "stdout",
          "output_type": "stream",
          "text": [
            "14.694751969191543\n",
            "12.149510285666487\n"
          ]
        }
      ],
      "source": [
        "print(error_percent_cat)\n",
        "print(error_percent_cat2)"
      ]
    },
    {
      "cell_type": "code",
      "execution_count": 19,
      "metadata": {
        "colab": {
          "base_uri": "https://localhost:8080/"
        },
        "id": "MkKBLefUH6Tp",
        "outputId": "bf9ae6a7-49cf-418c-840b-b625d1144b85"
      },
      "outputs": [
        {
          "name": "stdout",
          "output_type": "stream",
          "text": [
            "\u001b[2K     \u001b[90m━━━━━━━━━━━━━━━━━━━━━━━━━━━━━━━━━━━━━━━━\u001b[0m \u001b[32m16.8/16.8 MB\u001b[0m \u001b[31m28.9 MB/s\u001b[0m eta \u001b[36m0:00:00\u001b[0m\n",
            "\u001b[2K     \u001b[90m━━━━━━━━━━━━━━━━━━━━━━━━━━━━━━━━━━━━━━━━\u001b[0m \u001b[32m489.8/489.8 MB\u001b[0m \u001b[31m2.4 MB/s\u001b[0m eta \u001b[36m0:00:00\u001b[0m\n",
            "\u001b[2K     \u001b[90m━━━━━━━━━━━━━━━━━━━━━━━━━━━━━━━━━━━━━━━━\u001b[0m \u001b[32m1.0/1.0 MB\u001b[0m \u001b[31m55.7 MB/s\u001b[0m eta \u001b[36m0:00:00\u001b[0m\n",
            "\u001b[2K     \u001b[90m━━━━━━━━━━━━━━━━━━━━━━━━━━━━━━━━━━━━━━━━\u001b[0m \u001b[32m77.9/77.9 kB\u001b[0m \u001b[31m9.3 MB/s\u001b[0m eta \u001b[36m0:00:00\u001b[0m\n",
            "\u001b[2K     \u001b[90m━━━━━━━━━━━━━━━━━━━━━━━━━━━━━━━━━━━━━━━━\u001b[0m \u001b[32m5.5/5.5 MB\u001b[0m \u001b[31m80.9 MB/s\u001b[0m eta \u001b[36m0:00:00\u001b[0m\n",
            "\u001b[2K     \u001b[90m━━━━━━━━━━━━━━━━━━━━━━━━━━━━━━━━━━━━━━━━\u001b[0m \u001b[32m440.7/440.7 kB\u001b[0m \u001b[31m31.8 MB/s\u001b[0m eta \u001b[36m0:00:00\u001b[0m\n",
            "\u001b[2K     \u001b[90m━━━━━━━━━━━━━━━━━━━━━━━━━━━━━━━━━━━━━━━━\u001b[0m \u001b[32m1.7/1.7 MB\u001b[0m \u001b[31m63.3 MB/s\u001b[0m eta \u001b[36m0:00:00\u001b[0m\n",
            "\u001b[?25h"
          ]
        }
      ],
      "source": [
        "!pip install tensorflow_decision_forests --quiet"
      ]
    },
    {
      "cell_type": "code",
      "execution_count": 20,
      "metadata": {
        "id": "GG69j0OYH_OE"
      },
      "outputs": [],
      "source": [
        "import tensorflow_decision_forests as tfdf"
      ]
    },
    {
      "cell_type": "code",
      "execution_count": 29,
      "metadata": {
        "id": "a5MzHEkNIfLl"
      },
      "outputs": [],
      "source": [
        "train_dataset = pd.concat([X_train, y_train], axis=1)\n",
        "test_dataset = pd.concat([X_test, y_test], axis=1)"
      ]
    },
    {
      "cell_type": "code",
      "execution_count": 30,
      "metadata": {
        "id": "AJJjQdVlOIox"
      },
      "outputs": [],
      "source": [
        "train_dataset = train_dataset.astype('float64')\n",
        "test_dataset = test_dataset.astype('float64')"
      ]
    },
    {
      "cell_type": "code",
      "execution_count": 31,
      "metadata": {
        "id": "QPGKso-1JMIp"
      },
      "outputs": [],
      "source": [
        "train_dataset = tfdf.keras.pd_dataframe_to_tf_dataset(train_dataset, label=\"SalePrice\", task=tfdf.keras.Task.REGRESSION)\n",
        "test_dataset = tfdf.keras.pd_dataframe_to_tf_dataset(test_dataset, label=\"SalePrice\", task=tfdf.keras.Task.REGRESSION)\n",
        "serving_dataset = tfdf.keras.pd_dataframe_to_tf_dataset(X_test)"
      ]
    },
    {
      "cell_type": "code",
      "execution_count": null,
      "metadata": {},
      "outputs": [],
      "source": [
        "rf_tfdf = tfdf.keras.RandomForestModel(task=tfdf.keras.Task.REGRESSION, num_trees=5000, max_depth=10, num_candidate_splits=5000, max_num_nodes=1000000, min_examples_to_split=1000, min_examples_in_leaf=100, learning_rate=0.01, split_axis=\"SPARSE_OBLIQUE\", categorical_algorithm=\"RANDOM\", seed=42)\n",
        "rf_tfdf.compile(metrics=[\"mse\"])\n",
        "\n",
        "time_zero = datetime.datetime.now()\n",
        "\n",
        "rf_tfdf.fit(train_dataset, verbose=10)\n",
        "\n",
        "time_end = datetime.datetime.now()\n",
        "\n",
        "total_time = time_end - time_zero\n",
        "print(total_time)"
      ]
    },
    {
      "cell_type": "code",
      "execution_count": null,
      "metadata": {},
      "outputs": [],
      "source": [
        "rf_tfdf.summary()"
      ]
    },
    {
      "cell_type": "code",
      "execution_count": null,
      "metadata": {},
      "outputs": [],
      "source": [
        "rf_tfdf.evaluate(test_dataset, return_dict=True)"
      ]
    },
    {
      "cell_type": "code",
      "execution_count": null,
      "metadata": {},
      "outputs": [],
      "source": [
        "ypred = rf_tfdf.predict(serving_dataset)\n",
        "RMSE_TFDF = np.sqrt(mean_squared_error(y_test, ypred))\n",
        "error_percent_tfdf = 100 * (10**RMSE_TFDF - 1)\n",
        "\n",
        "print(error_percent_tfdf)"
      ]
    },
    {
      "cell_type": "code",
      "execution_count": 32,
      "metadata": {
        "colab": {
          "base_uri": "https://localhost:8080/"
        },
        "id": "1N13fjOHKC2G",
        "outputId": "615bb635-5e85-41fc-e33b-d0c9c7e9e865"
      },
      "outputs": [
        {
          "name": "stdout",
          "output_type": "stream",
          "text": [
            "Use /tmp/tmp8scpfyno as temporary training directory\n"
          ]
        }
      ],
      "source": [
        "tuner = tfdf.tuner.RandomSearch(num_trials=50, use_predefined_hps=True)\n",
        "tuned_model = tfdf.keras.RandomForestModel(task=tfdf.keras.Task.REGRESSION, tuner=tuner)"
      ]
    },
    {
      "cell_type": "code",
      "execution_count": null,
      "metadata": {
        "colab": {
          "base_uri": "https://localhost:8080/"
        },
        "id": "3ctfa_9ENeWi",
        "outputId": "d2578450-d4ac-44df-e8fc-88963e87a453"
      },
      "outputs": [
        {
          "name": "stdout",
          "output_type": "stream",
          "text": [
            "Reading training dataset...\n",
            "Training tensor examples:\n",
            "Features: {'Overall.Qual': <tf.Tensor 'data:0' shape=(None,) dtype=float64>, 'Gr.Liv.Area': <tf.Tensor 'data_1:0' shape=(None,) dtype=float64>, 'Ttl.Home.Qual': <tf.Tensor 'data_2:0' shape=(None,) dtype=float64>, 'Total.Bsmt.SF': <tf.Tensor 'data_3:0' shape=(None,) dtype=float64>, 'Garage.Area': <tf.Tensor 'data_4:0' shape=(None,) dtype=float64>, 'X1st.Flr.SF': <tf.Tensor 'data_5:0' shape=(None,) dtype=float64>, 'Ttl.Bath': <tf.Tensor 'data_6:0' shape=(None,) dtype=float64>, 'Age': <tf.Tensor 'data_7:0' shape=(None,) dtype=float64>, 'MS.SubClass': <tf.Tensor 'data_8:0' shape=(None,) dtype=float64>, 'Sq.Ft.PerRoom': <tf.Tensor 'data_9:0' shape=(None,) dtype=float64>, 'Age.Remod': <tf.Tensor 'data_10:0' shape=(None,) dtype=float64>, 'Lot.Frontage': <tf.Tensor 'data_11:0' shape=(None,) dtype=float64>, 'Exter.Qual_TA': <tf.Tensor 'data_12:0' shape=(None,) dtype=float64>, 'Full.Bath': <tf.Tensor 'data_13:0' shape=(None,) dtype=float64>, 'Foundation_PConc': <tf.Tensor 'data_14:0' shape=(None,) dtype=float64>, 'X2nd.Flr.SF': <tf.Tensor 'data_15:0' shape=(None,) dtype=float64>, 'Kitchen.Qual_TA': <tf.Tensor 'data_16:0' shape=(None,) dtype=float64>, 'TotRms.AbvGrd': <tf.Tensor 'data_17:0' shape=(None,) dtype=float64>, 'Exter.Qual_Gd': <tf.Tensor 'data_18:0' shape=(None,) dtype=float64>, 'Bsmt.Qual_TA': <tf.Tensor 'data_19:0' shape=(None,) dtype=float64>, 'BsmtFin.SF.1': <tf.Tensor 'data_20:0' shape=(None,) dtype=float64>, 'Mas.Vnr.Area': <tf.Tensor 'data_21:0' shape=(None,) dtype=float64>, 'Open.Porch.SF': <tf.Tensor 'data_22:0' shape=(None,) dtype=float64>, 'Lot.Area': <tf.Tensor 'data_23:0' shape=(None,) dtype=float64>, 'Bsmt.Qual_Gd': <tf.Tensor 'data_24:0' shape=(None,) dtype=float64>, 'Garage.Finish_Unf': <tf.Tensor 'data_25:0' shape=(None,) dtype=float64>, 'Kitchen.Qual_Gd': <tf.Tensor 'data_26:0' shape=(None,) dtype=float64>, 'BsmtFin.Type.1_GLQ': <tf.Tensor 'data_27:0' shape=(None,) dtype=float64>, 'Overall.Cond': <tf.Tensor 'data_28:0' shape=(None,) dtype=float64>, 'Garage.Type_Attchd': <tf.Tensor 'data_29:0' shape=(None,) dtype=float64>, 'Garage.Type_Detchd': <tf.Tensor 'data_30:0' shape=(None,) dtype=float64>, 'Foundation_CBlock': <tf.Tensor 'data_31:0' shape=(None,) dtype=float64>, 'Bsmt.Unf.SF': <tf.Tensor 'data_32:0' shape=(None,) dtype=float64>, 'Wood.Deck.SF': <tf.Tensor 'data_33:0' shape=(None,) dtype=float64>, 'Mas.Vnr.Type_None': <tf.Tensor 'data_34:0' shape=(None,) dtype=float64>, 'Exterior_VinylSd': <tf.Tensor 'data_35:0' shape=(None,) dtype=float64>, 'Heating.QC_TA': <tf.Tensor 'data_36:0' shape=(None,) dtype=float64>, 'MS.Zoning_RM': <tf.Tensor 'data_37:0' shape=(None,) dtype=float64>, 'Garage.Finish_RFn': <tf.Tensor 'data_38:0' shape=(None,) dtype=float64>, 'Sale.Condition_Partial': <tf.Tensor 'data_39:0' shape=(None,) dtype=float64>, 'Neighborhood_NridgHt': <tf.Tensor 'data_40:0' shape=(None,) dtype=float64>, 'Lot.Shape_Reg': <tf.Tensor 'data_41:0' shape=(None,) dtype=float64>, 'Central.Air_Y': <tf.Tensor 'data_42:0' shape=(None,) dtype=float64>, 'Neighborhood_NAmes': <tf.Tensor 'data_43:0' shape=(None,) dtype=float64>, 'Paved.Drive_Y': <tf.Tensor 'data_44:0' shape=(None,) dtype=float64>, 'Electrical_SBrkr': <tf.Tensor 'data_45:0' shape=(None,) dtype=float64>, 'Garage.Type_None': <tf.Tensor 'data_46:0' shape=(None,) dtype=float64>, 'Garage.Finish_None': <tf.Tensor 'data_47:0' shape=(None,) dtype=float64>, 'Bsmt.Exposure_No': <tf.Tensor 'data_48:0' shape=(None,) dtype=float64>, 'Bsmt.Exposure_Gd': <tf.Tensor 'data_49:0' shape=(None,) dtype=float64>}\n",
            "Label: Tensor(\"data_50:0\", shape=(None,), dtype=float64)\n",
            "Weights: None\n",
            "Normalized tensor features:\n",
            " {'Overall.Qual': SemanticTensor(semantic=<Semantic.NUMERICAL: 1>, tensor=<tf.Tensor 'Cast:0' shape=(None,) dtype=float32>), 'Gr.Liv.Area': SemanticTensor(semantic=<Semantic.NUMERICAL: 1>, tensor=<tf.Tensor 'Cast_1:0' shape=(None,) dtype=float32>), 'Ttl.Home.Qual': SemanticTensor(semantic=<Semantic.NUMERICAL: 1>, tensor=<tf.Tensor 'Cast_2:0' shape=(None,) dtype=float32>), 'Total.Bsmt.SF': SemanticTensor(semantic=<Semantic.NUMERICAL: 1>, tensor=<tf.Tensor 'Cast_3:0' shape=(None,) dtype=float32>), 'Garage.Area': SemanticTensor(semantic=<Semantic.NUMERICAL: 1>, tensor=<tf.Tensor 'Cast_4:0' shape=(None,) dtype=float32>), 'X1st.Flr.SF': SemanticTensor(semantic=<Semantic.NUMERICAL: 1>, tensor=<tf.Tensor 'Cast_5:0' shape=(None,) dtype=float32>), 'Ttl.Bath': SemanticTensor(semantic=<Semantic.NUMERICAL: 1>, tensor=<tf.Tensor 'Cast_6:0' shape=(None,) dtype=float32>), 'Age': SemanticTensor(semantic=<Semantic.NUMERICAL: 1>, tensor=<tf.Tensor 'Cast_7:0' shape=(None,) dtype=float32>), 'MS.SubClass': SemanticTensor(semantic=<Semantic.NUMERICAL: 1>, tensor=<tf.Tensor 'Cast_8:0' shape=(None,) dtype=float32>), 'Sq.Ft.PerRoom': SemanticTensor(semantic=<Semantic.NUMERICAL: 1>, tensor=<tf.Tensor 'Cast_9:0' shape=(None,) dtype=float32>), 'Age.Remod': SemanticTensor(semantic=<Semantic.NUMERICAL: 1>, tensor=<tf.Tensor 'Cast_10:0' shape=(None,) dtype=float32>), 'Lot.Frontage': SemanticTensor(semantic=<Semantic.NUMERICAL: 1>, tensor=<tf.Tensor 'Cast_11:0' shape=(None,) dtype=float32>), 'Exter.Qual_TA': SemanticTensor(semantic=<Semantic.NUMERICAL: 1>, tensor=<tf.Tensor 'Cast_12:0' shape=(None,) dtype=float32>), 'Full.Bath': SemanticTensor(semantic=<Semantic.NUMERICAL: 1>, tensor=<tf.Tensor 'Cast_13:0' shape=(None,) dtype=float32>), 'Foundation_PConc': SemanticTensor(semantic=<Semantic.NUMERICAL: 1>, tensor=<tf.Tensor 'Cast_14:0' shape=(None,) dtype=float32>), 'X2nd.Flr.SF': SemanticTensor(semantic=<Semantic.NUMERICAL: 1>, tensor=<tf.Tensor 'Cast_15:0' shape=(None,) dtype=float32>), 'Kitchen.Qual_TA': SemanticTensor(semantic=<Semantic.NUMERICAL: 1>, tensor=<tf.Tensor 'Cast_16:0' shape=(None,) dtype=float32>), 'TotRms.AbvGrd': SemanticTensor(semantic=<Semantic.NUMERICAL: 1>, tensor=<tf.Tensor 'Cast_17:0' shape=(None,) dtype=float32>), 'Exter.Qual_Gd': SemanticTensor(semantic=<Semantic.NUMERICAL: 1>, tensor=<tf.Tensor 'Cast_18:0' shape=(None,) dtype=float32>), 'Bsmt.Qual_TA': SemanticTensor(semantic=<Semantic.NUMERICAL: 1>, tensor=<tf.Tensor 'Cast_19:0' shape=(None,) dtype=float32>), 'BsmtFin.SF.1': SemanticTensor(semantic=<Semantic.NUMERICAL: 1>, tensor=<tf.Tensor 'Cast_20:0' shape=(None,) dtype=float32>), 'Mas.Vnr.Area': SemanticTensor(semantic=<Semantic.NUMERICAL: 1>, tensor=<tf.Tensor 'Cast_21:0' shape=(None,) dtype=float32>), 'Open.Porch.SF': SemanticTensor(semantic=<Semantic.NUMERICAL: 1>, tensor=<tf.Tensor 'Cast_22:0' shape=(None,) dtype=float32>), 'Lot.Area': SemanticTensor(semantic=<Semantic.NUMERICAL: 1>, tensor=<tf.Tensor 'Cast_23:0' shape=(None,) dtype=float32>), 'Bsmt.Qual_Gd': SemanticTensor(semantic=<Semantic.NUMERICAL: 1>, tensor=<tf.Tensor 'Cast_24:0' shape=(None,) dtype=float32>), 'Garage.Finish_Unf': SemanticTensor(semantic=<Semantic.NUMERICAL: 1>, tensor=<tf.Tensor 'Cast_25:0' shape=(None,) dtype=float32>), 'Kitchen.Qual_Gd': SemanticTensor(semantic=<Semantic.NUMERICAL: 1>, tensor=<tf.Tensor 'Cast_26:0' shape=(None,) dtype=float32>), 'BsmtFin.Type.1_GLQ': SemanticTensor(semantic=<Semantic.NUMERICAL: 1>, tensor=<tf.Tensor 'Cast_27:0' shape=(None,) dtype=float32>), 'Overall.Cond': SemanticTensor(semantic=<Semantic.NUMERICAL: 1>, tensor=<tf.Tensor 'Cast_28:0' shape=(None,) dtype=float32>), 'Garage.Type_Attchd': SemanticTensor(semantic=<Semantic.NUMERICAL: 1>, tensor=<tf.Tensor 'Cast_29:0' shape=(None,) dtype=float32>), 'Garage.Type_Detchd': SemanticTensor(semantic=<Semantic.NUMERICAL: 1>, tensor=<tf.Tensor 'Cast_30:0' shape=(None,) dtype=float32>), 'Foundation_CBlock': SemanticTensor(semantic=<Semantic.NUMERICAL: 1>, tensor=<tf.Tensor 'Cast_31:0' shape=(None,) dtype=float32>), 'Bsmt.Unf.SF': SemanticTensor(semantic=<Semantic.NUMERICAL: 1>, tensor=<tf.Tensor 'Cast_32:0' shape=(None,) dtype=float32>), 'Wood.Deck.SF': SemanticTensor(semantic=<Semantic.NUMERICAL: 1>, tensor=<tf.Tensor 'Cast_33:0' shape=(None,) dtype=float32>), 'Mas.Vnr.Type_None': SemanticTensor(semantic=<Semantic.NUMERICAL: 1>, tensor=<tf.Tensor 'Cast_34:0' shape=(None,) dtype=float32>), 'Exterior_VinylSd': SemanticTensor(semantic=<Semantic.NUMERICAL: 1>, tensor=<tf.Tensor 'Cast_35:0' shape=(None,) dtype=float32>), 'Heating.QC_TA': SemanticTensor(semantic=<Semantic.NUMERICAL: 1>, tensor=<tf.Tensor 'Cast_36:0' shape=(None,) dtype=float32>), 'MS.Zoning_RM': SemanticTensor(semantic=<Semantic.NUMERICAL: 1>, tensor=<tf.Tensor 'Cast_37:0' shape=(None,) dtype=float32>), 'Garage.Finish_RFn': SemanticTensor(semantic=<Semantic.NUMERICAL: 1>, tensor=<tf.Tensor 'Cast_38:0' shape=(None,) dtype=float32>), 'Sale.Condition_Partial': SemanticTensor(semantic=<Semantic.NUMERICAL: 1>, tensor=<tf.Tensor 'Cast_39:0' shape=(None,) dtype=float32>), 'Neighborhood_NridgHt': SemanticTensor(semantic=<Semantic.NUMERICAL: 1>, tensor=<tf.Tensor 'Cast_40:0' shape=(None,) dtype=float32>), 'Lot.Shape_Reg': SemanticTensor(semantic=<Semantic.NUMERICAL: 1>, tensor=<tf.Tensor 'Cast_41:0' shape=(None,) dtype=float32>), 'Central.Air_Y': SemanticTensor(semantic=<Semantic.NUMERICAL: 1>, tensor=<tf.Tensor 'Cast_42:0' shape=(None,) dtype=float32>), 'Neighborhood_NAmes': SemanticTensor(semantic=<Semantic.NUMERICAL: 1>, tensor=<tf.Tensor 'Cast_43:0' shape=(None,) dtype=float32>), 'Paved.Drive_Y': SemanticTensor(semantic=<Semantic.NUMERICAL: 1>, tensor=<tf.Tensor 'Cast_44:0' shape=(None,) dtype=float32>), 'Electrical_SBrkr': SemanticTensor(semantic=<Semantic.NUMERICAL: 1>, tensor=<tf.Tensor 'Cast_45:0' shape=(None,) dtype=float32>), 'Garage.Type_None': SemanticTensor(semantic=<Semantic.NUMERICAL: 1>, tensor=<tf.Tensor 'Cast_46:0' shape=(None,) dtype=float32>), 'Garage.Finish_None': SemanticTensor(semantic=<Semantic.NUMERICAL: 1>, tensor=<tf.Tensor 'Cast_47:0' shape=(None,) dtype=float32>), 'Bsmt.Exposure_No': SemanticTensor(semantic=<Semantic.NUMERICAL: 1>, tensor=<tf.Tensor 'Cast_48:0' shape=(None,) dtype=float32>), 'Bsmt.Exposure_Gd': SemanticTensor(semantic=<Semantic.NUMERICAL: 1>, tensor=<tf.Tensor 'Cast_49:0' shape=(None,) dtype=float32>)}\n",
            "Training dataset read in 0:00:01.823415. Found 2320 examples.\n",
            "Training model...\n",
            "Standard output detected as not visible to the user e.g. running in a notebook. Creating a training log redirection. If training gets stuck, try calling tfdf.keras.set_training_logs_redirection(False).\n"
          ]
        },
        {
          "name": "stderr",
          "output_type": "stream",
          "text": [
            "[INFO 23-10-22 16:30:32.9329 UTC kernel.cc:773] Start Yggdrasil model training\n",
            "[INFO 23-10-22 16:30:32.9330 UTC kernel.cc:774] Collect training examples\n",
            "[INFO 23-10-22 16:30:32.9330 UTC kernel.cc:787] Dataspec guide:\n",
            "column_guides {\n",
            "  column_name_pattern: \"^__LABEL$\"\n",
            "  type: NUMERICAL\n",
            "}\n",
            "default_column_guide {\n",
            "  categorial {\n",
            "    max_vocab_count: 2000\n",
            "  }\n",
            "  discretized_numerical {\n",
            "    maximum_num_bins: 255\n",
            "  }\n",
            "}\n",
            "ignore_columns_without_guides: false\n",
            "detect_numerical_as_discretized_numerical: false\n",
            "\n",
            "[INFO 23-10-22 16:30:32.9337 UTC kernel.cc:393] Number of batches: 3\n",
            "[INFO 23-10-22 16:30:32.9337 UTC kernel.cc:394] Number of examples: 2320\n",
            "[INFO 23-10-22 16:30:32.9372 UTC kernel.cc:794] Training dataset:\n",
            "Number of records: 2320\n",
            "Number of columns: 51\n",
            "\n",
            "Number of columns by type:\n",
            "\tNUMERICAL: 51 (100%)\n",
            "\n",
            "Columns:\n",
            "\n",
            "NUMERICAL: 51 (100%)\n",
            "\t0: \"Age\" NUMERICAL mean:-0.297229 min:-2.12495 max:0.783774 sd:0.780547\n",
            "\t1: \"Age.Remod\" NUMERICAL mean:-0.116959 min:-1.64332 max:0.641775 sd:0.651728\n",
            "\t2: \"Bsmt.Exposure_Gd\" NUMERICAL mean:0.0965517 min:0 max:1 sd:0.295346\n",
            "\t3: \"Bsmt.Exposure_No\" NUMERICAL mean:0.651724 min:0 max:1 sd:0.476424\n",
            "\t4: \"Bsmt.Qual_Gd\" NUMERICAL mean:0.414224 min:0 max:1 sd:0.492588\n",
            "\t5: \"Bsmt.Qual_TA\" NUMERICAL mean:0.443103 min:0 max:1 sd:0.496752\n",
            "\t6: \"Bsmt.Unf.SF\" NUMERICAL mean:-0.107849 min:-3.57684 max:1.52664 sd:0.81931\n",
            "\t7: \"BsmtFin.SF.1\" NUMERICAL mean:-0.292397 min:-8.01231 max:4.18827 sd:1.63715\n",
            "\t8: \"BsmtFin.Type.1_GLQ\" NUMERICAL mean:0.292241 min:0 max:1 sd:0.454793\n",
            "\t9: \"Central.Air_Y\" NUMERICAL mean:0.937069 min:0 max:1 sd:0.242839\n",
            "\t10: \"Electrical_SBrkr\" NUMERICAL mean:0.92069 min:0 max:1 sd:0.270223\n",
            "\t11: \"Exter.Qual_Gd\" NUMERICAL mean:0.33319 min:0 max:1 sd:0.471354\n",
            "\t12: \"Exter.Qual_TA\" NUMERICAL mean:0.619397 min:0 max:1 sd:0.485535\n",
            "\t13: \"Exterior_VinylSd\" NUMERICAL mean:0.349138 min:0 max:1 sd:0.476698\n",
            "\t14: \"Foundation_CBlock\" NUMERICAL mean:0.430172 min:0 max:1 sd:0.4951\n",
            "\t15: \"Foundation_PConc\" NUMERICAL mean:0.442241 min:0 max:1 sd:0.496653\n",
            "\t16: \"Full.Bath\" NUMERICAL mean:-0.433335 min:-1 max:1 sd:0.515752\n",
            "\t17: \"Garage.Area\" NUMERICAL mean:-0.0942827 min:-3.88915 max:2.76991 sd:0.91176\n",
            "\t18: \"Garage.Finish_None\" NUMERICAL mean:0.0512931 min:0 max:1 sd:0.220595\n",
            "\t19: \"Garage.Finish_RFn\" NUMERICAL mean:0.276724 min:0 max:1 sd:0.447379\n",
            "\t20: \"Garage.Finish_Unf\" NUMERICAL mean:0.424138 min:0 max:1 sd:0.494211\n",
            "\t21: \"Garage.Type_Attchd\" NUMERICAL mean:0.592241 min:0 max:1 sd:0.491418\n",
            "\t22: \"Garage.Type_Detchd\" NUMERICAL mean:0.267672 min:0 max:1 sd:0.442746\n",
            "\t23: \"Garage.Type_None\" NUMERICAL mean:0.050431 min:0 max:1 sd:0.218833\n",
            "\t24: \"Gr.Liv.Area\" NUMERICAL mean:-0.0277099 min:-2.92568 max:2.90975 sd:0.750211\n",
            "\t25: \"Heating.QC_TA\" NUMERICAL mean:0.299569 min:0 max:1 sd:0.458069\n",
            "\t26: \"Kitchen.Qual_Gd\" NUMERICAL mean:0.391379 min:0 max:1 sd:0.488059\n",
            "\t27: \"Kitchen.Qual_TA\" NUMERICAL mean:0.518534 min:0 max:1 sd:0.499656\n",
            "\t28: \"Lot.Area\" NUMERICAL mean:-0.13915 min:-4.22995 max:7.0979 sd:1.12516\n",
            "\t29: \"Lot.Frontage\" NUMERICAL mean:-0.176653 min:-4.14907 max:5.16133 sd:1.17823\n",
            "\t30: \"Lot.Shape_Reg\" NUMERICAL mean:0.634052 min:0 max:1 sd:0.481695\n",
            "\t31: \"MS.SubClass\" NUMERICAL mean:-0.0930667 min:-0.731416 max:1.06565 sd:0.56561\n",
            "\t32: \"MS.Zoning_RM\" NUMERICAL mean:0.15819 min:0 max:1 sd:0.364919\n",
            "\t33: \"Mas.Vnr.Area\" NUMERICAL mean:-0.0137547 min:-2.30103 max:0.90309 sd:0.24869\n",
            "\t34: \"Mas.Vnr.Type_None\" NUMERICAL mean:0.596983 min:0 max:1 sd:0.490504\n",
            "\t35: \"Neighborhood_NAmes\" NUMERICAL mean:0.156466 min:0 max:1 sd:0.363296\n",
            "\t36: \"Neighborhood_NridgHt\" NUMERICAL mean:0.0538793 min:0 max:1 sd:0.225779\n",
            "\t37: \"Open.Porch.SF\" NUMERICAL mean:0.0853385 min:-12.4251 max:9.79976 sd:2.38178\n",
            "\t38: \"Overall.Cond\" NUMERICAL mean:0.476715 min:-8.82747 max:3.2239 sd:1.14545\n",
            "\t39: \"Overall.Qual\" NUMERICAL mean:-0.0220025 min:-5.32513 max:1.51818 sd:0.705923\n",
            "\t40: \"Paved.Drive_Y\" NUMERICAL mean:0.913362 min:0 max:1 sd:0.281304\n",
            "\t41: \"Sale.Condition_Partial\" NUMERICAL mean:0.0849138 min:0 max:1 sd:0.278753\n",
            "\t42: \"Sq.Ft.PerRoom\" NUMERICAL mean:0.00903562 min:-2.8316 max:3.01971 sd:0.763932\n",
            "\t43: \"TotRms.AbvGrd\" NUMERICAL mean:0.139737 min:-2.06004 max:2.72323 sd:0.716718\n",
            "\t44: \"Total.Bsmt.SF\" NUMERICAL mean:0.0181467 min:-3.92628 max:3.45642 sd:0.77734\n",
            "\t45: \"Ttl.Bath\" NUMERICAL mean:0.162585 min:-3.10628 max:5.61416 sd:1.74189\n",
            "\t46: \"Ttl.Home.Qual\" NUMERICAL mean:-0.240313 min:-10.8836 max:2.69588 sd:0.981216\n",
            "\t47: \"Wood.Deck.SF\" NUMERICAL mean:-0.00418545 min:-1.63094 max:0.920514 sd:0.185438\n",
            "\t48: \"X1st.Flr.SF\" NUMERICAL mean:0.0390824 min:-2.34766 max:3.37736 sd:0.6998\n",
            "\t49: \"X2nd.Flr.SF\" NUMERICAL mean:-0.00294866 min:-0.780461 max:0.437549 sd:0.102265\n",
            "\t50: \"__LABEL\" NUMERICAL mean:5.22484 min:4.10684 max:5.87795 sd:0.17393\n",
            "\n",
            "Terminology:\n",
            "\tnas: Number of non-available (i.e. missing) values.\n",
            "\tood: Out of dictionary.\n",
            "\tmanually-defined: Attribute which type is manually defined by the user i.e. the type was not automatically inferred.\n",
            "\ttokenized: The attribute value is obtained through tokenization.\n",
            "\thas-dict: The attribute is attached to a string dictionary e.g. a categorical attribute stored as a string.\n",
            "\tvocab-size: Number of unique values.\n",
            "\n",
            "[INFO 23-10-22 16:30:32.9376 UTC kernel.cc:810] Configure learner\n",
            "[INFO 23-10-22 16:30:32.9381 UTC kernel.cc:824] Training config:\n",
            "learner: \"HYPERPARAMETER_OPTIMIZER\"\n",
            "features: \"^Age$\"\n",
            "features: \"^Age\\\\.Remod$\"\n",
            "features: \"^Bsmt\\\\.Exposure_Gd$\"\n",
            "features: \"^Bsmt\\\\.Exposure_No$\"\n",
            "features: \"^Bsmt\\\\.Qual_Gd$\"\n",
            "features: \"^Bsmt\\\\.Qual_TA$\"\n",
            "features: \"^Bsmt\\\\.Unf\\\\.SF$\"\n",
            "features: \"^BsmtFin\\\\.SF\\\\.1$\"\n",
            "features: \"^BsmtFin\\\\.Type\\\\.1_GLQ$\"\n",
            "features: \"^Central\\\\.Air_Y$\"\n",
            "features: \"^Electrical_SBrkr$\"\n",
            "features: \"^Exter\\\\.Qual_Gd$\"\n",
            "features: \"^Exter\\\\.Qual_TA$\"\n",
            "features: \"^Exterior_VinylSd$\"\n",
            "features: \"^Foundation_CBlock$\"\n",
            "features: \"^Foundation_PConc$\"\n",
            "features: \"^Full\\\\.Bath$\"\n",
            "features: \"^Garage\\\\.Area$\"\n",
            "features: \"^Garage\\\\.Finish_None$\"\n",
            "features: \"^Garage\\\\.Finish_RFn$\"\n",
            "features: \"^Garage\\\\.Finish_Unf$\"\n",
            "features: \"^Garage\\\\.Type_Attchd$\"\n",
            "features: \"^Garage\\\\.Type_Detchd$\"\n",
            "features: \"^Garage\\\\.Type_None$\"\n",
            "features: \"^Gr\\\\.Liv\\\\.Area$\"\n",
            "features: \"^Heating\\\\.QC_TA$\"\n",
            "features: \"^Kitchen\\\\.Qual_Gd$\"\n",
            "features: \"^Kitchen\\\\.Qual_TA$\"\n",
            "features: \"^Lot\\\\.Area$\"\n",
            "features: \"^Lot\\\\.Frontage$\"\n",
            "features: \"^Lot\\\\.Shape_Reg$\"\n",
            "features: \"^MS\\\\.SubClass$\"\n",
            "features: \"^MS\\\\.Zoning_RM$\"\n",
            "features: \"^Mas\\\\.Vnr\\\\.Area$\"\n",
            "features: \"^Mas\\\\.Vnr\\\\.Type_None$\"\n",
            "features: \"^Neighborhood_NAmes$\"\n",
            "features: \"^Neighborhood_NridgHt$\"\n",
            "features: \"^Open\\\\.Porch\\\\.SF$\"\n",
            "features: \"^Overall\\\\.Cond$\"\n",
            "features: \"^Overall\\\\.Qual$\"\n",
            "features: \"^Paved\\\\.Drive_Y$\"\n",
            "features: \"^Sale\\\\.Condition_Partial$\"\n",
            "features: \"^Sq\\\\.Ft\\\\.PerRoom$\"\n",
            "features: \"^TotRms\\\\.AbvGrd$\"\n",
            "features: \"^Total\\\\.Bsmt\\\\.SF$\"\n",
            "features: \"^Ttl\\\\.Bath$\"\n",
            "features: \"^Ttl\\\\.Home\\\\.Qual$\"\n",
            "features: \"^Wood\\\\.Deck\\\\.SF$\"\n",
            "features: \"^X1st\\\\.Flr\\\\.SF$\"\n",
            "features: \"^X2nd\\\\.Flr\\\\.SF$\"\n",
            "label: \"^__LABEL$\"\n",
            "task: REGRESSION\n",
            "metadata {\n",
            "  framework: \"TF Keras\"\n",
            "}\n",
            "[yggdrasil_decision_forests.model.hyperparameters_optimizer_v2.proto.hyperparameters_optimizer_config] {\n",
            "  base_learner {\n",
            "    learner: \"RANDOM_FOREST\"\n",
            "    features: \"^Age$\"\n",
            "    features: \"^Age\\\\.Remod$\"\n",
            "    features: \"^Bsmt\\\\.Exposure_Gd$\"\n",
            "    features: \"^Bsmt\\\\.Exposure_No$\"\n",
            "    features: \"^Bsmt\\\\.Qual_Gd$\"\n",
            "    features: \"^Bsmt\\\\.Qual_TA$\"\n",
            "    features: \"^Bsmt\\\\.Unf\\\\.SF$\"\n",
            "    features: \"^BsmtFin\\\\.SF\\\\.1$\"\n",
            "    features: \"^BsmtFin\\\\.Type\\\\.1_GLQ$\"\n",
            "    features: \"^Central\\\\.Air_Y$\"\n",
            "    features: \"^Electrical_SBrkr$\"\n",
            "    features: \"^Exter\\\\.Qual_Gd$\"\n",
            "    features: \"^Exter\\\\.Qual_TA$\"\n",
            "    features: \"^Exterior_VinylSd$\"\n",
            "    features: \"^Foundation_CBlock$\"\n",
            "    features: \"^Foundation_PConc$\"\n",
            "    features: \"^Full\\\\.Bath$\"\n",
            "    features: \"^Garage\\\\.Area$\"\n",
            "    features: \"^Garage\\\\.Finish_None$\"\n",
            "    features: \"^Garage\\\\.Finish_RFn$\"\n",
            "    features: \"^Garage\\\\.Finish_Unf$\"\n",
            "    features: \"^Garage\\\\.Type_Attchd$\"\n",
            "    features: \"^Garage\\\\.Type_Detchd$\"\n",
            "    features: \"^Garage\\\\.Type_None$\"\n",
            "    features: \"^Gr\\\\.Liv\\\\.Area$\"\n",
            "    features: \"^Heating\\\\.QC_TA$\"\n",
            "    features: \"^Kitchen\\\\.Qual_Gd$\"\n",
            "    features: \"^Kitchen\\\\.Qual_TA$\"\n",
            "    features: \"^Lot\\\\.Area$\"\n",
            "    features: \"^Lot\\\\.Frontage$\"\n",
            "    features: \"^Lot\\\\.Shape_Reg$\"\n",
            "    features: \"^MS\\\\.SubClass$\"\n",
            "    features: \"^MS\\\\.Zoning_RM$\"\n",
            "    features: \"^Mas\\\\.Vnr\\\\.Area$\"\n",
            "    features: \"^Mas\\\\.Vnr\\\\.Type_None$\"\n",
            "    features: \"^Neighborhood_NAmes$\"\n",
            "    features: \"^Neighborhood_NridgHt$\"\n",
            "    features: \"^Open\\\\.Porch\\\\.SF$\"\n",
            "    features: \"^Overall\\\\.Cond$\"\n",
            "    features: \"^Overall\\\\.Qual$\"\n",
            "    features: \"^Paved\\\\.Drive_Y$\"\n",
            "    features: \"^Sale\\\\.Condition_Partial$\"\n",
            "    features: \"^Sq\\\\.Ft\\\\.PerRoom$\"\n",
            "    features: \"^TotRms\\\\.AbvGrd$\"\n",
            "    features: \"^Total\\\\.Bsmt\\\\.SF$\"\n",
            "    features: \"^Ttl\\\\.Bath$\"\n",
            "    features: \"^Ttl\\\\.Home\\\\.Qual$\"\n",
            "    features: \"^Wood\\\\.Deck\\\\.SF$\"\n",
            "    features: \"^X1st\\\\.Flr\\\\.SF$\"\n",
            "    features: \"^X2nd\\\\.Flr\\\\.SF$\"\n",
            "    label: \"^__LABEL$\"\n",
            "    task: REGRESSION\n",
            "    random_seed: 123456\n",
            "    pure_serving_model: false\n",
            "    [yggdrasil_decision_forests.model.random_forest.proto.random_forest_config] {\n",
            "      num_trees: 300\n",
            "      decision_tree {\n",
            "        max_depth: 16\n",
            "        min_examples: 5\n",
            "        in_split_min_examples_check: true\n",
            "        keep_non_leaf_label_distribution: true\n",
            "        num_candidate_attributes: 0\n",
            "        missing_value_policy: GLOBAL_IMPUTATION\n",
            "        allow_na_conditions: false\n",
            "        categorical_set_greedy_forward {\n",
            "          sampling: 0.1\n",
            "          max_num_items: -1\n",
            "          min_item_frequency: 1\n",
            "        }\n",
            "        growing_strategy_local {\n",
            "        }\n",
            "        categorical {\n",
            "          cart {\n",
            "          }\n",
            "        }\n",
            "        axis_aligned_split {\n",
            "        }\n",
            "        internal {\n",
            "          sorting_strategy: PRESORTED\n",
            "        }\n",
            "        uplift {\n",
            "          min_examples_in_treatment: 5\n",
            "          split_score: KULLBACK_LEIBLER\n",
            "        }\n",
            "      }\n",
            "      winner_take_all_inference: true\n",
            "      compute_oob_performances: true\n",
            "      compute_oob_variable_importances: false\n",
            "      num_oob_variable_importances_permutations: 1\n",
            "      bootstrap_training_dataset: true\n",
            "      bootstrap_size_ratio: 1\n",
            "      adapt_bootstrap_size_ratio_for_maximum_training_duration: false\n",
            "      sampling_with_replacement: true\n",
            "    }\n",
            "  }\n",
            "  optimizer {\n",
            "    optimizer_key: \"RANDOM\"\n",
            "    [yggdrasil_decision_forests.model.hyperparameters_optimizer_v2.proto.random] {\n",
            "      num_trials: 50\n",
            "    }\n",
            "  }\n",
            "  base_learner_deployment {\n",
            "    num_threads: 1\n",
            "  }\n",
            "  predefined_search_space {\n",
            "  }\n",
            "}\n",
            "\n",
            "[INFO 23-10-22 16:30:32.9386 UTC kernel.cc:827] Deployment config:\n",
            "cache_path: \"/tmp/tmp8scpfyno/working_cache\"\n",
            "num_threads: 2\n",
            "try_resume_training: true\n",
            "\n",
            "[INFO 23-10-22 16:30:32.9388 UTC kernel.cc:889] Train model\n",
            "[INFO 23-10-22 16:30:32.9399 UTC hyperparameters_optimizer.cc:209] Hyperparameter search space:\n",
            "fields {\n",
            "  name: \"split_axis\"\n",
            "  discrete_candidates {\n",
            "    possible_values {\n",
            "      categorical: \"AXIS_ALIGNED\"\n",
            "    }\n",
            "    possible_values {\n",
            "      categorical: \"SPARSE_OBLIQUE\"\n",
            "    }\n",
            "  }\n",
            "  children {\n",
            "    name: \"sparse_oblique_projection_density_factor\"\n",
            "    discrete_candidates {\n",
            "      possible_values {\n",
            "        real: 1\n",
            "      }\n",
            "      possible_values {\n",
            "        real: 2\n",
            "      }\n",
            "      possible_values {\n",
            "        real: 3\n",
            "      }\n",
            "      possible_values {\n",
            "        real: 4\n",
            "      }\n",
            "      possible_values {\n",
            "        real: 5\n",
            "      }\n",
            "    }\n",
            "    parent_discrete_values {\n",
            "      possible_values {\n",
            "        categorical: \"SPARSE_OBLIQUE\"\n",
            "      }\n",
            "    }\n",
            "  }\n",
            "  children {\n",
            "    name: \"sparse_oblique_normalization\"\n",
            "    discrete_candidates {\n",
            "      possible_values {\n",
            "        categorical: \"NONE\"\n",
            "      }\n",
            "      possible_values {\n",
            "        categorical: \"STANDARD_DEVIATION\"\n",
            "      }\n",
            "      possible_values {\n",
            "        categorical: \"MIN_MAX\"\n",
            "      }\n",
            "    }\n",
            "    parent_discrete_values {\n",
            "      possible_values {\n",
            "        categorical: \"SPARSE_OBLIQUE\"\n",
            "      }\n",
            "    }\n",
            "  }\n",
            "  children {\n",
            "    name: \"sparse_oblique_weights\"\n",
            "    discrete_candidates {\n",
            "      possible_values {\n",
            "        categorical: \"BINARY\"\n",
            "      }\n",
            "      possible_values {\n",
            "        categorical: \"CONTINUOUS\"\n",
            "      }\n",
            "    }\n",
            "    parent_discrete_values {\n",
            "      possible_values {\n",
            "        categorical: \"SPARSE_OBLIQUE\"\n",
            "      }\n",
            "    }\n",
            "  }\n",
            "}\n",
            "fields {\n",
            "  name: \"categorical_algorithm\"\n",
            "  discrete_candidates {\n",
            "    possible_values {\n",
            "      categorical: \"CART\"\n",
            "    }\n",
            "    possible_values {\n",
            "      categorical: \"RANDOM\"\n",
            "    }\n",
            "  }\n",
            "}\n",
            "fields {\n",
            "  name: \"winner_take_all\"\n",
            "  discrete_candidates {\n",
            "    possible_values {\n",
            "      categorical: \"true\"\n",
            "    }\n",
            "  }\n",
            "}\n",
            "fields {\n",
            "  name: \"max_depth\"\n",
            "  discrete_candidates {\n",
            "    possible_values {\n",
            "      integer: 12\n",
            "    }\n",
            "    possible_values {\n",
            "      integer: 16\n",
            "    }\n",
            "    possible_values {\n",
            "      integer: 20\n",
            "    }\n",
            "    possible_values {\n",
            "      integer: 25\n",
            "    }\n",
            "    possible_values {\n",
            "      integer: 30\n",
            "    }\n",
            "  }\n",
            "}\n",
            "fields {\n",
            "  name: \"min_examples\"\n",
            "  discrete_candidates {\n",
            "    possible_values {\n",
            "      integer: 1\n",
            "    }\n",
            "    possible_values {\n",
            "      integer: 2\n",
            "    }\n",
            "    possible_values {\n",
            "      integer: 5\n",
            "    }\n",
            "    possible_values {\n",
            "      integer: 10\n",
            "    }\n",
            "    possible_values {\n",
            "      integer: 40\n",
            "    }\n",
            "  }\n",
            "}\n",
            "\n",
            "[INFO 23-10-22 16:30:32.9403 UTC hyperparameters_optimizer.cc:500] Start local tuner with 2 thread(s)\n",
            "[INFO 23-10-22 16:30:32.9449 UTC random_forest.cc:416] Training random forest on 2320 example(s) and 50 feature(s).\n",
            "[INFO 23-10-22 16:30:32.9560 UTC random_forest.cc:416] Training random forest on 2320 example(s) and 50 feature(s).\n",
            "[INFO 23-10-22 16:30:36.1394 UTC random_forest.cc:802] Training of tree  1/300 (tree index:0) done rmse:0.0815236\n",
            "[INFO 23-10-22 16:30:48.9756 UTC random_forest.cc:802] Training of tree  4/300 (tree index:3) done rmse:0.0722589\n",
            "[INFO 23-10-22 16:30:49.1993 UTC random_forest.cc:802] Training of tree  1/300 (tree index:0) done rmse:0.0883951\n",
            "[INFO 23-10-22 16:31:01.3490 UTC random_forest.cc:802] Training of tree  7/300 (tree index:6) done rmse:0.0672769\n",
            "[INFO 23-10-22 16:31:05.4899 UTC random_forest.cc:802] Training of tree  2/300 (tree index:1) done rmse:0.086023\n",
            "[INFO 23-10-22 16:31:15.8995 UTC random_forest.cc:802] Training of tree  11/300 (tree index:10) done rmse:0.0630697\n",
            "[INFO 23-10-22 16:31:20.8267 UTC random_forest.cc:802] Training of tree  3/300 (tree index:2) done rmse:0.0808036\n",
            "[INFO 23-10-22 16:31:29.9889 UTC random_forest.cc:802] Training of tree  15/300 (tree index:14) done rmse:0.0617379\n",
            "[INFO 23-10-22 16:31:36.8041 UTC random_forest.cc:802] Training of tree  4/300 (tree index:3) done rmse:0.0782958\n",
            "[INFO 23-10-22 16:31:41.8363 UTC random_forest.cc:802] Training of tree  18/300 (tree index:17) done rmse:0.0607895\n",
            "[INFO 23-10-22 16:31:52.3810 UTC random_forest.cc:802] Training of tree  20/300 (tree index:19) done rmse:0.0603513\n",
            "[INFO 23-10-22 16:31:53.5026 UTC random_forest.cc:802] Training of tree  5/300 (tree index:4) done rmse:0.076246\n",
            "[INFO 23-10-22 16:32:07.3737 UTC random_forest.cc:802] Training of tree  24/300 (tree index:23) done rmse:0.0600007\n",
            "[INFO 23-10-22 16:32:09.0220 UTC random_forest.cc:802] Training of tree  6/300 (tree index:5) done rmse:0.0744092\n",
            "[INFO 23-10-22 16:32:17.5458 UTC random_forest.cc:802] Training of tree  27/300 (tree index:26) done rmse:0.0598882\n",
            "[INFO 23-10-22 16:32:25.2143 UTC random_forest.cc:802] Training of tree  7/300 (tree index:6) done rmse:0.0711761\n",
            "[INFO 23-10-22 16:32:29.6209 UTC random_forest.cc:802] Training of tree  30/300 (tree index:29) done rmse:0.0593903\n",
            "[INFO 23-10-22 16:32:40.1138 UTC random_forest.cc:802] Training of tree  8/300 (tree index:7) done rmse:0.0687082\n",
            "[INFO 23-10-22 16:32:41.6014 UTC random_forest.cc:802] Training of tree  33/300 (tree index:32) done rmse:0.0591494\n",
            "[INFO 23-10-22 16:32:52.9159 UTC random_forest.cc:802] Training of tree  36/300 (tree index:35) done rmse:0.0590975\n",
            "[INFO 23-10-22 16:32:55.6605 UTC random_forest.cc:802] Training of tree  9/300 (tree index:8) done rmse:0.0676857\n",
            "[INFO 23-10-22 16:33:03.2221 UTC random_forest.cc:802] Training of tree  39/300 (tree index:38) done rmse:0.0589044\n",
            "[INFO 23-10-22 16:33:10.8150 UTC random_forest.cc:802] Training of tree  10/300 (tree index:9) done rmse:0.0665312\n",
            "[INFO 23-10-22 16:33:15.2712 UTC random_forest.cc:802] Training of tree  42/300 (tree index:41) done rmse:0.0587221\n",
            "[INFO 23-10-22 16:33:26.0534 UTC random_forest.cc:802] Training of tree  11/300 (tree index:10) done rmse:0.0649336\n",
            "[INFO 23-10-22 16:33:27.3553 UTC random_forest.cc:802] Training of tree  45/300 (tree index:44) done rmse:0.058577\n",
            "[INFO 23-10-22 16:33:40.8589 UTC random_forest.cc:802] Training of tree  12/300 (tree index:11) done rmse:0.0643318\n",
            "[INFO 23-10-22 16:33:42.3933 UTC random_forest.cc:802] Training of tree  49/300 (tree index:48) done rmse:0.0584683\n",
            "[INFO 23-10-22 16:33:57.0883 UTC random_forest.cc:802] Training of tree  53/300 (tree index:52) done rmse:0.0583664\n",
            "[INFO 23-10-22 16:33:57.0904 UTC random_forest.cc:802] Training of tree  13/300 (tree index:12) done rmse:0.0642901\n",
            "[INFO 23-10-22 16:34:07.3636 UTC random_forest.cc:802] Training of tree  56/300 (tree index:55) done rmse:0.0583249\n",
            "[INFO 23-10-22 16:34:11.4053 UTC random_forest.cc:802] Training of tree  14/300 (tree index:13) done rmse:0.0635345\n",
            "[INFO 23-10-22 16:34:19.6054 UTC random_forest.cc:802] Training of tree  59/300 (tree index:58) done rmse:0.0582788\n",
            "[INFO 23-10-22 16:34:26.2876 UTC random_forest.cc:802] Training of tree  15/300 (tree index:14) done rmse:0.0627873\n",
            "[INFO 23-10-22 16:34:31.9606 UTC random_forest.cc:802] Training of tree  62/300 (tree index:61) done rmse:0.0582744\n",
            "[INFO 23-10-22 16:34:41.0460 UTC random_forest.cc:802] Training of tree  16/300 (tree index:15) done rmse:0.0617789\n",
            "[INFO 23-10-22 16:34:47.2167 UTC random_forest.cc:802] Training of tree  66/300 (tree index:65) done rmse:0.0581203\n",
            "[INFO 23-10-22 16:34:57.2109 UTC random_forest.cc:802] Training of tree  17/300 (tree index:16) done rmse:0.0613513\n",
            "[INFO 23-10-22 16:35:01.1621 UTC random_forest.cc:802] Training of tree  70/300 (tree index:69) done rmse:0.0580945\n",
            "[INFO 23-10-22 16:35:11.2393 UTC random_forest.cc:802] Training of tree  73/300 (tree index:72) done rmse:0.0580962\n",
            "[INFO 23-10-22 16:35:12.3056 UTC random_forest.cc:802] Training of tree  18/300 (tree index:17) done rmse:0.0608144\n",
            "[INFO 23-10-22 16:35:23.3416 UTC random_forest.cc:802] Training of tree  76/300 (tree index:75) done rmse:0.0581272\n",
            "[INFO 23-10-22 16:35:27.4332 UTC random_forest.cc:802] Training of tree  19/300 (tree index:18) done rmse:0.0600811\n",
            "[INFO 23-10-22 16:35:35.0101 UTC random_forest.cc:802] Training of tree  79/300 (tree index:78) done rmse:0.0580886\n",
            "[INFO 23-10-22 16:35:42.8429 UTC random_forest.cc:802] Training of tree  20/300 (tree index:19) done rmse:0.0597427\n",
            "[INFO 23-10-22 16:35:49.3256 UTC random_forest.cc:802] Training of tree  83/300 (tree index:82) done rmse:0.0579964\n",
            "[INFO 23-10-22 16:35:58.6461 UTC random_forest.cc:802] Training of tree  21/300 (tree index:20) done rmse:0.0592287\n",
            "[INFO 23-10-22 16:35:59.6542 UTC random_forest.cc:802] Training of tree  86/300 (tree index:85) done rmse:0.0578841\n",
            "[INFO 23-10-22 16:36:11.9566 UTC random_forest.cc:802] Training of tree  89/300 (tree index:88) done rmse:0.0577854\n",
            "[INFO 23-10-22 16:36:13.6764 UTC random_forest.cc:802] Training of tree  22/300 (tree index:21) done rmse:0.0589495\n",
            "[INFO 23-10-22 16:36:24.3211 UTC random_forest.cc:802] Training of tree  92/300 (tree index:91) done rmse:0.0577412\n",
            "[INFO 23-10-22 16:36:29.1995 UTC random_forest.cc:802] Training of tree  23/300 (tree index:22) done rmse:0.0586518\n",
            "[INFO 23-10-22 16:36:39.4481 UTC random_forest.cc:802] Training of tree  96/300 (tree index:95) done rmse:0.0577056\n",
            "[INFO 23-10-22 16:36:44.8401 UTC random_forest.cc:802] Training of tree  24/300 (tree index:23) done rmse:0.0584872\n",
            "[INFO 23-10-22 16:36:53.7433 UTC random_forest.cc:802] Training of tree  100/300 (tree index:99) done rmse:0.057653\n",
            "[INFO 23-10-22 16:37:00.1112 UTC random_forest.cc:802] Training of tree  25/300 (tree index:24) done rmse:0.0581094\n",
            "[INFO 23-10-22 16:37:08.3398 UTC random_forest.cc:802] Training of tree  104/300 (tree index:103) done rmse:0.0575713\n",
            "[INFO 23-10-22 16:37:15.7283 UTC random_forest.cc:802] Training of tree  26/300 (tree index:25) done rmse:0.058132\n",
            "[INFO 23-10-22 16:37:19.1658 UTC random_forest.cc:802] Training of tree  107/300 (tree index:106) done rmse:0.0576563\n",
            "[INFO 23-10-22 16:37:31.1960 UTC random_forest.cc:802] Training of tree  27/300 (tree index:26) done rmse:0.0580859\n",
            "[INFO 23-10-22 16:37:31.2013 UTC random_forest.cc:802] Training of tree  110/300 (tree index:109) done rmse:0.0576456\n",
            "[INFO 23-10-22 16:37:43.3757 UTC random_forest.cc:802] Training of tree  113/300 (tree index:112) done rmse:0.0576178\n",
            "[INFO 23-10-22 16:37:46.7905 UTC random_forest.cc:802] Training of tree  28/300 (tree index:27) done rmse:0.0579273\n",
            "[INFO 23-10-22 16:37:53.6069 UTC random_forest.cc:802] Training of tree  116/300 (tree index:115) done rmse:0.0575667\n",
            "[INFO 23-10-22 16:38:02.3541 UTC random_forest.cc:802] Training of tree  29/300 (tree index:28) done rmse:0.0576327\n",
            "[INFO 23-10-22 16:38:05.3659 UTC random_forest.cc:802] Training of tree  119/300 (tree index:118) done rmse:0.0575726\n",
            "[INFO 23-10-22 16:38:17.3688 UTC random_forest.cc:802] Training of tree  122/300 (tree index:121) done rmse:0.0575387\n",
            "[INFO 23-10-22 16:38:18.1709 UTC random_forest.cc:802] Training of tree  30/300 (tree index:29) done rmse:0.0575027\n",
            "[INFO 23-10-22 16:38:28.3640 UTC random_forest.cc:802] Training of tree  125/300 (tree index:124) done rmse:0.0575058\n",
            "[INFO 23-10-22 16:38:33.2765 UTC random_forest.cc:802] Training of tree  31/300 (tree index:30) done rmse:0.057216\n",
            "[INFO 23-10-22 16:38:38.6576 UTC random_forest.cc:802] Training of tree  128/300 (tree index:127) done rmse:0.057489\n",
            "[INFO 23-10-22 16:38:48.3774 UTC random_forest.cc:802] Training of tree  32/300 (tree index:31) done rmse:0.0571375\n",
            "[INFO 23-10-22 16:38:50.8297 UTC random_forest.cc:802] Training of tree  131/300 (tree index:130) done rmse:0.0574945\n",
            "[INFO 23-10-22 16:39:02.9012 UTC random_forest.cc:802] Training of tree  134/300 (tree index:133) done rmse:0.0574553\n",
            "[INFO 23-10-22 16:39:03.7814 UTC random_forest.cc:802] Training of tree  33/300 (tree index:32) done rmse:0.0569641\n",
            "[INFO 23-10-22 16:39:18.0913 UTC random_forest.cc:802] Training of tree  138/300 (tree index:137) done rmse:0.0574419\n",
            "[INFO 23-10-22 16:39:19.2055 UTC random_forest.cc:802] Training of tree  34/300 (tree index:33) done rmse:0.0567833\n",
            "[INFO 23-10-22 16:39:33.7874 UTC random_forest.cc:802] Training of tree  142/300 (tree index:141) done rmse:0.0573942\n",
            "[INFO 23-10-22 16:39:34.5989 UTC random_forest.cc:802] Training of tree  35/300 (tree index:34) done rmse:0.0567479\n",
            "[INFO 23-10-22 16:39:48.3071 UTC random_forest.cc:802] Training of tree  146/300 (tree index:145) done rmse:0.0573609\n",
            "[INFO 23-10-22 16:39:49.8055 UTC random_forest.cc:802] Training of tree  36/300 (tree index:35) done rmse:0.0566004\n",
            "[INFO 23-10-22 16:39:58.4584 UTC random_forest.cc:802] Training of tree  149/300 (tree index:148) done rmse:0.0573183\n",
            "[INFO 23-10-22 16:40:05.4452 UTC random_forest.cc:802] Training of tree  37/300 (tree index:36) done rmse:0.0564521\n",
            "[INFO 23-10-22 16:40:10.9152 UTC random_forest.cc:802] Training of tree  152/300 (tree index:151) done rmse:0.0573183\n",
            "[INFO 23-10-22 16:40:20.9306 UTC random_forest.cc:802] Training of tree  38/300 (tree index:37) done rmse:0.0563807\n",
            "[INFO 23-10-22 16:40:23.0677 UTC random_forest.cc:802] Training of tree  155/300 (tree index:154) done rmse:0.0572924\n",
            "[INFO 23-10-22 16:40:35.4186 UTC random_forest.cc:802] Training of tree  39/300 (tree index:38) done rmse:0.0562762\n",
            "[INFO 23-10-22 16:40:38.2353 UTC random_forest.cc:802] Training of tree  159/300 (tree index:158) done rmse:0.057293\n",
            "[INFO 23-10-22 16:40:50.4943 UTC random_forest.cc:802] Training of tree  40/300 (tree index:39) done rmse:0.0559938\n",
            "[INFO 23-10-22 16:40:53.6140 UTC random_forest.cc:802] Training of tree  163/300 (tree index:162) done rmse:0.0572932\n",
            "[INFO 23-10-22 16:41:05.8119 UTC random_forest.cc:802] Training of tree  41/300 (tree index:40) done rmse:0.0559633\n",
            "[INFO 23-10-22 16:41:07.9705 UTC random_forest.cc:802] Training of tree  167/300 (tree index:166) done rmse:0.0572816\n",
            "[INFO 23-10-22 16:41:19.8761 UTC random_forest.cc:802] Training of tree  42/300 (tree index:41) done rmse:0.0560726\n",
            "[INFO 23-10-22 16:41:22.1744 UTC random_forest.cc:802] Training of tree  171/300 (tree index:170) done rmse:0.0573002\n",
            "[INFO 23-10-22 16:41:32.5360 UTC random_forest.cc:802] Training of tree  174/300 (tree index:173) done rmse:0.0573429\n",
            "[INFO 23-10-22 16:41:34.7379 UTC random_forest.cc:802] Training of tree  43/300 (tree index:42) done rmse:0.0558231\n",
            "[INFO 23-10-22 16:41:44.6555 UTC random_forest.cc:802] Training of tree  177/300 (tree index:176) done rmse:0.0573122\n",
            "[INFO 23-10-22 16:41:50.0207 UTC random_forest.cc:802] Training of tree  44/300 (tree index:43) done rmse:0.0559669\n",
            "[INFO 23-10-22 16:41:56.7658 UTC random_forest.cc:802] Training of tree  180/300 (tree index:179) done rmse:0.0572922\n",
            "[INFO 23-10-22 16:42:05.8682 UTC random_forest.cc:802] Training of tree  45/300 (tree index:44) done rmse:0.0558613\n",
            "[INFO 23-10-22 16:42:11.8901 UTC random_forest.cc:802] Training of tree  184/300 (tree index:183) done rmse:0.0573016\n",
            "[INFO 23-10-22 16:42:20.4902 UTC random_forest.cc:802] Training of tree  46/300 (tree index:45) done rmse:0.0558723\n",
            "[INFO 23-10-22 16:42:26.1629 UTC random_forest.cc:802] Training of tree  188/300 (tree index:187) done rmse:0.0572909\n",
            "[INFO 23-10-22 16:42:35.5378 UTC random_forest.cc:802] Training of tree  47/300 (tree index:46) done rmse:0.0557832\n",
            "[INFO 23-10-22 16:42:36.5468 UTC random_forest.cc:802] Training of tree  191/300 (tree index:190) done rmse:0.0572972\n",
            "[INFO 23-10-22 16:42:48.1853 UTC random_forest.cc:802] Training of tree  194/300 (tree index:193) done rmse:0.0572872\n",
            "[INFO 23-10-22 16:42:51.0621 UTC random_forest.cc:802] Training of tree  48/300 (tree index:47) done rmse:0.0557304\n",
            "[INFO 23-10-22 16:43:00.1595 UTC random_forest.cc:802] Training of tree  197/300 (tree index:196) done rmse:0.0572479\n",
            "[INFO 23-10-22 16:43:06.2572 UTC random_forest.cc:802] Training of tree  49/300 (tree index:48) done rmse:0.055638\n",
            "[INFO 23-10-22 16:43:14.7024 UTC random_forest.cc:802] Training of tree  201/300 (tree index:200) done rmse:0.057228\n",
            "[INFO 23-10-22 16:43:21.4490 UTC random_forest.cc:802] Training of tree  50/300 (tree index:49) done rmse:0.0556688\n",
            "[INFO 23-10-22 16:43:29.4141 UTC random_forest.cc:802] Training of tree  205/300 (tree index:204) done rmse:0.0572\n",
            "[INFO 23-10-22 16:43:36.6423 UTC random_forest.cc:802] Training of tree  51/300 (tree index:50) done rmse:0.0555964\n",
            "[INFO 23-10-22 16:43:39.6875 UTC random_forest.cc:802] Training of tree  208/300 (tree index:207) done rmse:0.0571662\n",
            "[INFO 23-10-22 16:43:51.5919 UTC random_forest.cc:802] Training of tree  211/300 (tree index:210) done rmse:0.057153\n",
            "[INFO 23-10-22 16:43:51.5935 UTC random_forest.cc:802] Training of tree  52/300 (tree index:51) done rmse:0.0555874\n",
            "[INFO 23-10-22 16:44:03.4390 UTC random_forest.cc:802] Training of tree  214/300 (tree index:213) done rmse:0.0571298\n",
            "[INFO 23-10-22 16:44:06.6716 UTC random_forest.cc:802] Training of tree  53/300 (tree index:52) done rmse:0.0555192\n",
            "[INFO 23-10-22 16:44:18.5761 UTC random_forest.cc:802] Training of tree  218/300 (tree index:217) done rmse:0.0571111\n",
            "[INFO 23-10-22 16:44:22.0085 UTC random_forest.cc:802] Training of tree  54/300 (tree index:53) done rmse:0.0553289\n",
            "[INFO 23-10-22 16:44:32.6604 UTC random_forest.cc:802] Training of tree  222/300 (tree index:221) done rmse:0.0571223\n",
            "[INFO 23-10-22 16:44:37.6434 UTC random_forest.cc:802] Training of tree  55/300 (tree index:54) done rmse:0.0552749\n",
            "[INFO 23-10-22 16:44:43.1087 UTC random_forest.cc:802] Training of tree  225/300 (tree index:224) done rmse:0.0571274\n",
            "[INFO 23-10-22 16:44:52.4590 UTC random_forest.cc:802] Training of tree  56/300 (tree index:55) done rmse:0.0552602\n",
            "[INFO 23-10-22 16:44:55.3502 UTC random_forest.cc:802] Training of tree  228/300 (tree index:227) done rmse:0.0571071\n",
            "[INFO 23-10-22 16:45:07.5031 UTC random_forest.cc:802] Training of tree  231/300 (tree index:230) done rmse:0.057132\n",
            "[INFO 23-10-22 16:45:07.6547 UTC random_forest.cc:802] Training of tree  57/300 (tree index:56) done rmse:0.0552444\n",
            "[INFO 23-10-22 16:45:22.2083 UTC random_forest.cc:802] Training of tree  235/300 (tree index:234) done rmse:0.0571268\n",
            "[INFO 23-10-22 16:45:22.8455 UTC random_forest.cc:802] Training of tree  58/300 (tree index:57) done rmse:0.0552222\n",
            "[INFO 23-10-22 16:45:37.3074 UTC random_forest.cc:802] Training of tree  239/300 (tree index:238) done rmse:0.057121\n",
            "[INFO 23-10-22 16:45:38.2417 UTC random_forest.cc:802] Training of tree  59/300 (tree index:58) done rmse:0.0552543\n",
            "[INFO 23-10-22 16:45:51.6371 UTC random_forest.cc:802] Training of tree  243/300 (tree index:242) done rmse:0.057161\n",
            "[INFO 23-10-22 16:45:52.6674 UTC random_forest.cc:802] Training of tree  60/300 (tree index:59) done rmse:0.0552323\n",
            "[INFO 23-10-22 16:46:02.4158 UTC random_forest.cc:802] Training of tree  246/300 (tree index:245) done rmse:0.0571933\n",
            "[INFO 23-10-22 16:46:07.3917 UTC random_forest.cc:802] Training of tree  61/300 (tree index:60) done rmse:0.0552282\n",
            "[INFO 23-10-22 16:46:14.7301 UTC random_forest.cc:802] Training of tree  249/300 (tree index:248) done rmse:0.0571808\n",
            "[INFO 23-10-22 16:46:22.0760 UTC random_forest.cc:802] Training of tree  62/300 (tree index:61) done rmse:0.0552405\n",
            "[INFO 23-10-22 16:46:26.9114 UTC random_forest.cc:802] Training of tree  252/300 (tree index:251) done rmse:0.0571959\n",
            "[INFO 23-10-22 16:46:36.3140 UTC random_forest.cc:802] Training of tree  63/300 (tree index:62) done rmse:0.0551728\n",
            "[INFO 23-10-22 16:46:42.1306 UTC random_forest.cc:802] Training of tree  256/300 (tree index:255) done rmse:0.0571652\n",
            "[INFO 23-10-22 16:46:51.2417 UTC random_forest.cc:802] Training of tree  64/300 (tree index:63) done rmse:0.0551222\n",
            "[INFO 23-10-22 16:46:56.2179 UTC random_forest.cc:802] Training of tree  260/300 (tree index:259) done rmse:0.0571548\n",
            "[INFO 23-10-22 16:47:06.6395 UTC random_forest.cc:802] Training of tree  65/300 (tree index:64) done rmse:0.0550877\n",
            "[INFO 23-10-22 16:47:10.1487 UTC random_forest.cc:802] Training of tree  264/300 (tree index:263) done rmse:0.0571404\n",
            "[INFO 23-10-22 16:47:21.4106 UTC random_forest.cc:802] Training of tree  267/300 (tree index:266) done rmse:0.0571281\n",
            "[INFO 23-10-22 16:47:21.6592 UTC random_forest.cc:802] Training of tree  66/300 (tree index:65) done rmse:0.0551546\n",
            "[INFO 23-10-22 16:47:33.3416 UTC random_forest.cc:802] Training of tree  270/300 (tree index:269) done rmse:0.0571096\n",
            "[INFO 23-10-22 16:47:36.1759 UTC random_forest.cc:802] Training of tree  67/300 (tree index:66) done rmse:0.0551953\n",
            "[INFO 23-10-22 16:47:45.0851 UTC random_forest.cc:802] Training of tree  273/300 (tree index:272) done rmse:0.0571207\n",
            "[INFO 23-10-22 16:47:51.8767 UTC random_forest.cc:802] Training of tree  68/300 (tree index:67) done rmse:0.0551684\n",
            "[INFO 23-10-22 16:47:59.7075 UTC random_forest.cc:802] Training of tree  277/300 (tree index:276) done rmse:0.057114\n",
            "[INFO 23-10-22 16:48:07.0543 UTC random_forest.cc:802] Training of tree  69/300 (tree index:68) done rmse:0.0551714\n",
            "[INFO 23-10-22 16:48:10.0232 UTC random_forest.cc:802] Training of tree  280/300 (tree index:279) done rmse:0.0571254\n",
            "[INFO 23-10-22 16:48:21.9038 UTC random_forest.cc:802] Training of tree  283/300 (tree index:282) done rmse:0.0571479\n",
            "[INFO 23-10-22 16:48:22.4771 UTC random_forest.cc:802] Training of tree  70/300 (tree index:69) done rmse:0.0552042\n",
            "[INFO 23-10-22 16:48:33.5423 UTC random_forest.cc:802] Training of tree  286/300 (tree index:285) done rmse:0.0571377\n",
            "[INFO 23-10-22 16:48:37.1418 UTC random_forest.cc:802] Training of tree  71/300 (tree index:70) done rmse:0.0551311\n",
            "[INFO 23-10-22 16:48:47.9945 UTC random_forest.cc:802] Training of tree  290/300 (tree index:289) done rmse:0.0571251\n",
            "[INFO 23-10-22 16:48:52.2088 UTC random_forest.cc:802] Training of tree  72/300 (tree index:71) done rmse:0.0551379\n",
            "[INFO 23-10-22 16:49:02.6679 UTC random_forest.cc:802] Training of tree  294/300 (tree index:293) done rmse:0.0571252\n",
            "[INFO 23-10-22 16:49:06.8458 UTC random_forest.cc:802] Training of tree  73/300 (tree index:72) done rmse:0.0551196\n",
            "[INFO 23-10-22 16:49:17.0081 UTC random_forest.cc:802] Training of tree  298/300 (tree index:297) done rmse:0.0571473\n",
            "[INFO 23-10-22 16:49:21.5053 UTC random_forest.cc:802] Training of tree  74/300 (tree index:73) done rmse:0.0550481\n",
            "[INFO 23-10-22 16:49:23.3030 UTC random_forest.cc:802] Training of tree  300/300 (tree index:299) done rmse:0.0571654\n",
            "[INFO 23-10-22 16:49:23.3032 UTC random_forest.cc:882] Final OOB metrics: rmse:0.0571654\n",
            "[INFO 23-10-22 16:49:23.3347 UTC hyperparameters_optimizer.cc:582] [1/50] Score: -0.0571654 / -0.0571654 HParams: fields { name: \"split_axis\" value { categorical: \"SPARSE_OBLIQUE\" } } fields { name: \"sparse_oblique_projection_density_factor\" value { real: 5 } } fields { name: \"sparse_oblique_normalization\" value { categorical: \"MIN_MAX\" } } fields { name: \"sparse_oblique_weights\" value { categorical: \"BINARY\" } } fields { name: \"categorical_algorithm\" value { categorical: \"CART\" } } fields { name: \"winner_take_all\" value { categorical: \"true\" } } fields { name: \"max_depth\" value { integer: 12 } } fields { name: \"min_examples\" value { integer: 40 } }\n",
            "[INFO 23-10-22 16:49:23.3561 UTC random_forest.cc:416] Training random forest on 2320 example(s) and 50 feature(s).\n",
            "[INFO 23-10-22 16:49:28.1889 UTC random_forest.cc:802] Training of tree  1/300 (tree index:0) done rmse:0.0809219\n",
            "[INFO 23-10-22 16:49:35.9651 UTC random_forest.cc:802] Training of tree  75/300 (tree index:74) done rmse:0.0550418\n",
            "[INFO 23-10-22 16:49:39.5497 UTC random_forest.cc:802] Training of tree  3/300 (tree index:2) done rmse:0.0770974\n",
            "[INFO 23-10-22 16:49:50.9448 UTC random_forest.cc:802] Training of tree  76/300 (tree index:75) done rmse:0.0551108\n",
            "[INFO 23-10-22 16:49:51.1984 UTC random_forest.cc:802] Training of tree  5/300 (tree index:4) done rmse:0.0745123\n",
            "[INFO 23-10-22 16:50:02.6487 UTC random_forest.cc:802] Training of tree  7/300 (tree index:6) done rmse:0.0689312\n",
            "[INFO 23-10-22 16:50:05.9042 UTC random_forest.cc:802] Training of tree  77/300 (tree index:76) done rmse:0.0550707\n",
            "[INFO 23-10-22 16:50:18.7351 UTC random_forest.cc:802] Training of tree  10/300 (tree index:9) done rmse:0.0641558\n",
            "[INFO 23-10-22 16:50:20.6088 UTC random_forest.cc:802] Training of tree  78/300 (tree index:77) done rmse:0.0551422\n",
            "[INFO 23-10-22 16:50:29.0487 UTC random_forest.cc:802] Training of tree  12/300 (tree index:11) done rmse:0.0631233\n",
            "[INFO 23-10-22 16:50:35.8288 UTC random_forest.cc:802] Training of tree  79/300 (tree index:78) done rmse:0.055193\n",
            "[INFO 23-10-22 16:50:39.4742 UTC random_forest.cc:802] Training of tree  14/300 (tree index:13) done rmse:0.0623018\n"
          ]
        }
      ],
      "source": [
        "tuned_model.fit(train_dataset, verbose=10)"
      ]
    },
    {
      "cell_type": "code",
      "execution_count": null,
      "metadata": {
        "id": "K1_fk7eBL4rH"
      },
      "outputs": [],
      "source": [
        "evaluation = tuned_model.evaluate(test_dataset, return_dict=True)\n",
        "\n",
        "for name, value in evaluation.items():\n",
        "  print(f'{name}: {value:.4f}')"
      ]
    },
    {
      "cell_type": "code",
      "execution_count": null,
      "metadata": {
        "id": "_4V0Mdy5MXcI"
      },
      "outputs": [],
      "source": [
        "ypred = tuned_model.predict(serving_dataset, verbose=0)\n",
        "\n",
        "RMSE_TFDF_TUNED = np.sqrt(mean_squared_error(y_test, ypred))\n",
        "error_percent_tfdf_tuned = 100 * (10**RMSE_TFDF_TUNED - 1)\n",
        "\n",
        "print(error_percent_tfdf_tuned)"
      ]
    }
  ],
  "metadata": {
    "accelerator": "GPU",
    "colab": {
      "gpuType": "T4",
      "provenance": []
    },
    "kernelspec": {
      "display_name": "Python 3",
      "name": "python3"
    },
    "language_info": {
      "codemirror_mode": {
        "name": "ipython",
        "version": 3
      },
      "file_extension": ".py",
      "mimetype": "text/x-python",
      "name": "python",
      "nbconvert_exporter": "python",
      "pygments_lexer": "ipython3",
      "version": "3.10.13"
    },
    "orig_nbformat": 4
  },
  "nbformat": 4,
  "nbformat_minor": 0
}
